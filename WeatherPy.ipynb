{
 "cells": [
  {
   "cell_type": "markdown",
   "metadata": {},
   "source": [
    "# WeatherPy\n",
    "----\n",
    "\n",
    "#### Note\n",
    "* Instructions have been included for each segment. You do not have to follow them exactly, but they are included to help you think through the steps."
   ]
  },
  {
   "cell_type": "code",
   "execution_count": 1,
   "metadata": {
    "scrolled": true
   },
   "outputs": [],
   "source": [
    "# Dependencies and Setup\n",
    "import matplotlib.pyplot as plt\n",
    "import pandas as pd\n",
    "import numpy as np\n",
    "import requests\n",
    "import time\n",
    "from scipy.stats import linregress\n",
    "import json\n",
    "\n",
    "# Import API key\n",
    "from api_keys import weather_api_key\n",
    "\n",
    "# Incorporated citipy to determine city based on latitude and longitude\n",
    "from citipy import citipy\n",
    "\n",
    "# Output File (CSV)\n",
    "output_data_file = \"output_data/cities.csv\"\n",
    "\n",
    "# Range of latitudes and longitudes\n",
    "lat_range = (-90, 90)\n",
    "lng_range = (-180, 180)"
   ]
  },
  {
   "cell_type": "code",
   "execution_count": 2,
   "metadata": {},
   "outputs": [],
   "source": [
    "# List for holding lat_lngs and cities\n",
    "lat_lngs = []\n",
    "cities = []\n",
    "\n",
    "# Create a set of random lat and lng combinations\n",
    "lats = np.random.uniform(lat_range[0], lat_range[1], size=1500)\n",
    "lngs = np.random.uniform(lng_range[0], lng_range[1], size=1500)\n",
    "lat_lngs = list(zip(lats, lngs))"
   ]
  },
  {
   "cell_type": "code",
   "execution_count": 3,
   "metadata": {},
   "outputs": [
    {
     "data": {
      "text/plain": [
       "601"
      ]
     },
     "execution_count": 3,
     "metadata": {},
     "output_type": "execute_result"
    }
   ],
   "source": [
    "# Identify nearest city for each lat, lng combination\n",
    "for lat_lng in lat_lngs:\n",
    "    city = citipy.nearest_city(lat_lng[0], lat_lng[1]).city_name\n",
    "    \n",
    "    # If the city is unique, then add it to a our cities list\n",
    "    if city not in cities:\n",
    "        cities.append(city)\n",
    "\n",
    "# Print the city count to confirm sufficient count\n",
    "len(cities)"
   ]
  },
  {
   "cell_type": "code",
   "execution_count": 4,
   "metadata": {},
   "outputs": [
    {
     "data": {
      "text/plain": [
       "['castro',\n",
       " 'luanda',\n",
       " 'bluff',\n",
       " 'qaanaaq',\n",
       " 'barrow',\n",
       " 'afmadu',\n",
       " 'rikitea',\n",
       " 'bagotville',\n",
       " 'zabid',\n",
       " 'yeppoon',\n",
       " 'kapaa',\n",
       " 'taolanaro',\n",
       " 'kahului',\n",
       " 'vung tau',\n",
       " 'punta arenas',\n",
       " 'jamestown',\n",
       " 'victoria',\n",
       " 'cherskiy',\n",
       " 'lagoa',\n",
       " 'vaini',\n",
       " 'iqaluit',\n",
       " 'vierzon',\n",
       " 'aden',\n",
       " 'nizhneyansk',\n",
       " 'yellowknife',\n",
       " 'bengkulu',\n",
       " 'semirom',\n",
       " 'ribeira grande',\n",
       " 'mahebourg',\n",
       " 'tautira',\n",
       " 'norman wells',\n",
       " 'pevek',\n",
       " 'mareeba',\n",
       " 'cidreira',\n",
       " 'cape town',\n",
       " 'luderitz',\n",
       " 'zaysan',\n",
       " 'inirida',\n",
       " 'albany',\n",
       " 'nikolskoye',\n",
       " 'parras',\n",
       " 'samusu',\n",
       " 'saint-philippe',\n",
       " 'ulladulla',\n",
       " 'nijar',\n",
       " 'khandyga',\n",
       " 'shenjiamen',\n",
       " 'sentyabrskiy',\n",
       " 'labuhan',\n",
       " 'winslow',\n",
       " 'kodiak',\n",
       " 'port elizabeth',\n",
       " 'balakliya',\n",
       " 'georgetown',\n",
       " 'thompson',\n",
       " 'dikson',\n",
       " 'ilulissat',\n",
       " 'elat',\n",
       " 'bethel',\n",
       " 'port alfred',\n",
       " 'paamiut',\n",
       " 'ornskoldsvik',\n",
       " 'fortuna',\n",
       " 'svetlyy',\n",
       " 'belushya guba',\n",
       " 'buraydah',\n",
       " 'bubaque',\n",
       " 'tuktoyaktuk',\n",
       " 'mataura',\n",
       " 'halalo',\n",
       " 'geraldton',\n",
       " 'havelock',\n",
       " 'lubaczow',\n",
       " 'severo-kurilsk',\n",
       " 'hilo',\n",
       " 'atuona',\n",
       " 'kalavrita',\n",
       " 'hobart',\n",
       " 'constitucion',\n",
       " 'roma',\n",
       " 'hermanus',\n",
       " 'guerrero negro',\n",
       " 'banda aceh',\n",
       " 'warqla',\n",
       " 'denpasar',\n",
       " 'kasongo-lunda',\n",
       " 'hanstholm',\n",
       " 'avera',\n",
       " 'port lincoln',\n",
       " 'vila velha',\n",
       " 'domoni',\n",
       " 'quatre cocos',\n",
       " 'russell',\n",
       " 'fare',\n",
       " 'jinchengjiang',\n",
       " 'richards bay',\n",
       " 'mecca',\n",
       " 'lebu',\n",
       " 'teguise',\n",
       " 'upernavik',\n",
       " 'marsa matruh',\n",
       " 'puerto ayora',\n",
       " 'nanortalik',\n",
       " 'juneau',\n",
       " 'bambous virieux',\n",
       " 'yuzhno-kurilsk',\n",
       " 'ushuaia',\n",
       " 'agadez',\n",
       " 'xai-xai',\n",
       " 'dingle',\n",
       " 'kungurtug',\n",
       " 'sorvag',\n",
       " 'nanakuli',\n",
       " 'talnakh',\n",
       " 'semey',\n",
       " 'sechura',\n",
       " 'kruisfontein',\n",
       " 'busselton',\n",
       " 'palabuhanratu',\n",
       " 'omboue',\n",
       " 'abha',\n",
       " 'butaritari',\n",
       " 'aklavik',\n",
       " 'balykshi',\n",
       " 'chokurdakh',\n",
       " 'panzhihua',\n",
       " 'kavieng',\n",
       " 'sitka',\n",
       " 'salalah',\n",
       " 'valparaiso',\n",
       " 'narsaq',\n",
       " 'illoqqortoormiut',\n",
       " 'odweyne',\n",
       " 'ilheus',\n",
       " 'andenes',\n",
       " 'megion',\n",
       " 'playas',\n",
       " 'bolungarvik',\n",
       " 'ancud',\n",
       " 'oktyabrskiy',\n",
       " 'tiksi',\n",
       " 'marsala',\n",
       " 'ojuelos de jalisco',\n",
       " 'fairbanks',\n",
       " 'hunza',\n",
       " 'toora-khem',\n",
       " 'la macarena',\n",
       " 'noumea',\n",
       " 'axim',\n",
       " 'vardo',\n",
       " 'santa cruz',\n",
       " 'tolga',\n",
       " 'namibe',\n",
       " 'esperance',\n",
       " 'biak',\n",
       " 'khatanga',\n",
       " 'san cristobal',\n",
       " 'carnarvon',\n",
       " 'mar del plata',\n",
       " 'wittingen',\n",
       " 'inhambane',\n",
       " 'new norfolk',\n",
       " 'attawapiskat',\n",
       " 'pokhara',\n",
       " 'newton',\n",
       " 'killam',\n",
       " 'saint petersburg',\n",
       " 'nouadhibou',\n",
       " 'bom jesus',\n",
       " 'panguna',\n",
       " 'nizwa',\n",
       " 'tarakan',\n",
       " 'srednekolymsk',\n",
       " 'saskylakh',\n",
       " 'kaeo',\n",
       " 'cabo san lucas',\n",
       " 'namatanai',\n",
       " 'bandarbeyla',\n",
       " 'dunedin',\n",
       " 'tabou',\n",
       " 'tasiilaq',\n",
       " 'imeni poliny osipenko',\n",
       " 'asarganj',\n",
       " 'astoria',\n",
       " 'neiafu',\n",
       " 'barentsburg',\n",
       " 'snihurivka',\n",
       " 'codrington',\n",
       " 'avarua',\n",
       " 'saleaula',\n",
       " 'la troncal',\n",
       " 'klaksvik',\n",
       " 'santa vitoria do palmar',\n",
       " 'tsentralnyy',\n",
       " 'arlit',\n",
       " 'mayo',\n",
       " 'sumbawanga',\n",
       " 'viedma',\n",
       " 'swansea',\n",
       " 'charters towers',\n",
       " 'rocha',\n",
       " 'zhezkazgan',\n",
       " 'neuquen',\n",
       " 'kaitangata',\n",
       " 'taoudenni',\n",
       " 'komsomolskiy',\n",
       " 'riyadh',\n",
       " 'deputatskiy',\n",
       " 'huarmey',\n",
       " 'leshukonskoye',\n",
       " 'logstor',\n",
       " 'san juan',\n",
       " 'ust-nera',\n",
       " 'dahuk',\n",
       " 'tumannyy',\n",
       " 'narodychi',\n",
       " 'passagem franca',\n",
       " 'laguna',\n",
       " 'mantua',\n",
       " 'souillac',\n",
       " 'saint anthony',\n",
       " 'keti bandar',\n",
       " 'bengkalis',\n",
       " 'saldanha',\n",
       " 'gao',\n",
       " 'sabang',\n",
       " 'saint-augustin',\n",
       " 'east london',\n",
       " 'provideniya',\n",
       " 'bulaevo',\n",
       " 'college',\n",
       " 'beisfjord',\n",
       " 'ihiala',\n",
       " 'longyearbyen',\n",
       " 'katsuura',\n",
       " 'haines junction',\n",
       " 'cockburn town',\n",
       " 'broken hill',\n",
       " 'paducah',\n",
       " 'necochea',\n",
       " 'stokmarknes',\n",
       " 'mezhdurechensk',\n",
       " 'tsihombe',\n",
       " 'conde',\n",
       " 'mys shmidta',\n",
       " 'bilma',\n",
       " 'athabasca',\n",
       " 'matara',\n",
       " 'gobabis',\n",
       " 'edson',\n",
       " 'nyurba',\n",
       " 'qui nhon',\n",
       " 'freeport',\n",
       " 'tres palos',\n",
       " 'tabatinga',\n",
       " 'amderma',\n",
       " 'santa rosa',\n",
       " 'barcelona',\n",
       " 'nishihara',\n",
       " 'dakar',\n",
       " 'gandai',\n",
       " 'tottori',\n",
       " 'santa maria',\n",
       " 'makakilo city',\n",
       " 'vila do maio',\n",
       " 'khormuj',\n",
       " 'lufilufi',\n",
       " 'bredasdorp',\n",
       " 'simoes',\n",
       " 'malya',\n",
       " 'airai',\n",
       " 'kabinda',\n",
       " 'port macquarie',\n",
       " 'vaitupu',\n",
       " 'rio grande',\n",
       " 'yangjiang',\n",
       " 'mingaora',\n",
       " 'rantoul',\n",
       " 'aykhal',\n",
       " 'lolua',\n",
       " 'chuy',\n",
       " 'jackson',\n",
       " 'ulfborg',\n",
       " 'korla',\n",
       " 'kudahuvadhoo',\n",
       " 'nemuro',\n",
       " 'beringovskiy',\n",
       " 'saint-joseph',\n",
       " 'sao filipe',\n",
       " 'ixtapa',\n",
       " 'tahta',\n",
       " 'vao',\n",
       " 'vaitape',\n",
       " 'abapo',\n",
       " 'reconquista',\n",
       " 'esso',\n",
       " 'udachnyy',\n",
       " 'zyryanka',\n",
       " 'shimoda',\n",
       " 'sao joao da barra',\n",
       " 'kheda',\n",
       " 'bloomfield',\n",
       " 'elko',\n",
       " 'kolyvan',\n",
       " 'isangel',\n",
       " 'boa vista',\n",
       " 'grindavik',\n",
       " 'san antonio',\n",
       " 'pangkalanbuun',\n",
       " 'suriapet',\n",
       " 'bokspits',\n",
       " 'sabha',\n",
       " 'kazalinsk',\n",
       " 'port blair',\n",
       " 'astolfo dutra',\n",
       " 'abnub',\n",
       " 'pueblo nuevo',\n",
       " 'cozumel',\n",
       " 'adrar',\n",
       " 'lompoc',\n",
       " 'ostrovnoy',\n",
       " 'coihaique',\n",
       " 'saint-andre-les-vergers',\n",
       " 'umm lajj',\n",
       " 'cam ranh',\n",
       " 'madang',\n",
       " 'huadian',\n",
       " 'peleduy',\n",
       " 'burkhala',\n",
       " 'torbay',\n",
       " 'yar-sale',\n",
       " 'meulaboh',\n",
       " 'nuevitas',\n",
       " 'ranchuelo',\n",
       " 'kaohsiung',\n",
       " 'saint george',\n",
       " 'lorengau',\n",
       " 'sault sainte marie',\n",
       " 'whitehorse',\n",
       " 'arraial do cabo',\n",
       " 'harindanga',\n",
       " 'ust-kuyga',\n",
       " 'okato',\n",
       " 'faanui',\n",
       " 'araouane',\n",
       " 'hervey bay',\n",
       " 'ahipara',\n",
       " 'waipawa',\n",
       " 'jinotega',\n",
       " 'novikovo',\n",
       " 'srandakan',\n",
       " 'hofn',\n",
       " 'guangyuan',\n",
       " 'aripuana',\n",
       " 'altar',\n",
       " 'bathsheba',\n",
       " 'rawson',\n",
       " 'mao',\n",
       " 'helena',\n",
       " 'boshnyakovo',\n",
       " 'fengrun',\n",
       " 'uaua',\n",
       " 'kapoeta',\n",
       " 'tuatapere',\n",
       " 'youghal',\n",
       " 'haapu',\n",
       " 'leningradskiy',\n",
       " 'ponta do sol',\n",
       " 'dunda',\n",
       " 'eyl',\n",
       " 'ballyhaunis',\n",
       " 'goundam',\n",
       " 'kuningan',\n",
       " 'kamenskoye',\n",
       " 'barra do garcas',\n",
       " 'maningrida',\n",
       " 'poienile de sub munte',\n",
       " 'hoorn',\n",
       " 'nenjiang',\n",
       " 'kokorevka',\n",
       " 'la romana',\n",
       " 'ngukurr',\n",
       " 'alotau',\n",
       " 'barawe',\n",
       " 'smithers',\n",
       " 'haverfordwest',\n",
       " 'tornio',\n",
       " 'mullaitivu',\n",
       " 'kalianget',\n",
       " 'caravelas',\n",
       " 'hithadhoo',\n",
       " 'soe',\n",
       " 'teguldet',\n",
       " 'pisco',\n",
       " 'malwan',\n",
       " 'coquimbo',\n",
       " 'eirunepe',\n",
       " 'bujumbura',\n",
       " 'okha',\n",
       " 'sur',\n",
       " 'tadine',\n",
       " 'burica',\n",
       " 'polyarnyy',\n",
       " 'shevchenkove',\n",
       " 'kalmunai',\n",
       " 'kiruna',\n",
       " 'itarema',\n",
       " 'talcahuano',\n",
       " 'gisborne',\n",
       " 'shingu',\n",
       " 'lata',\n",
       " 'kidal',\n",
       " 'puerto quijarro',\n",
       " 'lasa',\n",
       " 'nyaunglebin',\n",
       " 'nouakchott',\n",
       " 'espanola',\n",
       " 'margate',\n",
       " 'tarudant',\n",
       " 'husavik',\n",
       " 'niltepec',\n",
       " 'lavrentiya',\n",
       " 'dodola',\n",
       " 'buenos aires',\n",
       " 'mandalgovi',\n",
       " 'mrirt',\n",
       " 'severo-yeniseyskiy',\n",
       " 'maceio',\n",
       " 'pacific grove',\n",
       " 'san quintin',\n",
       " 'kawalu',\n",
       " 'jacareacanga',\n",
       " 'ust-tsilma',\n",
       " 'falaleu',\n",
       " 'kihei',\n",
       " 'miravci',\n",
       " 'donji vakuf',\n",
       " 'yicheng',\n",
       " 'hovd',\n",
       " 'ahuimanu',\n",
       " 'kyra',\n",
       " 'camacha',\n",
       " 'mwinilunga',\n",
       " 'portland',\n",
       " 'saint-francois',\n",
       " 'moussoro',\n",
       " 'samalaeulu',\n",
       " 'iquique',\n",
       " 'a',\n",
       " 'inuvik',\n",
       " 'verkhovye',\n",
       " 'ende',\n",
       " 'hailun',\n",
       " 'wahran',\n",
       " 'harper',\n",
       " 'aqtobe',\n",
       " 'voh',\n",
       " 'anamur',\n",
       " 'bukoba',\n",
       " 'jarjis',\n",
       " 'novyy urengoy',\n",
       " 'suao',\n",
       " 'smolenka',\n",
       " 'porbandar',\n",
       " 'sinnamary',\n",
       " 'miraflores',\n",
       " 'tamandare',\n",
       " 'ginda',\n",
       " 'rio cuarto',\n",
       " 'marrakesh',\n",
       " 'antalaha',\n",
       " 'acin',\n",
       " 'altus',\n",
       " 'kailua',\n",
       " 'flin flon',\n",
       " 'bambanglipuro',\n",
       " 'saryg-sep',\n",
       " 'roald',\n",
       " 'grand gaube',\n",
       " 'nome',\n",
       " 'sooke',\n",
       " 'goderich',\n",
       " 'kavaratti',\n",
       " 'darasti-ilfov',\n",
       " 'terrace',\n",
       " 'benghazi',\n",
       " 'puksoozero',\n",
       " 'kushima',\n",
       " 'ukhta',\n",
       " 'pierre',\n",
       " 'deep river',\n",
       " 'eurajoki',\n",
       " 'asosa',\n",
       " 'rodeo',\n",
       " 'tezu',\n",
       " 'ormara',\n",
       " 'mailsi',\n",
       " 'taburao',\n",
       " 'albertville',\n",
       " 'urusha',\n",
       " 'ozernovskiy',\n",
       " 'heihe',\n",
       " 'gunjur',\n",
       " 'imbituba',\n",
       " 'tlucna',\n",
       " 'chulym',\n",
       " 'hyeres',\n",
       " 'zaoyang',\n",
       " 'clyde river',\n",
       " 'aksarka',\n",
       " 'kosonsoy',\n",
       " 'bontang',\n",
       " 'vestmannaeyjar',\n",
       " 'andevoranto',\n",
       " 'bethanien',\n",
       " 'carutapera',\n",
       " 'auki',\n",
       " 'aleksandrovsk-sakhalinskiy',\n",
       " 'gouyave',\n",
       " 'pankrushikha',\n",
       " 'melhus',\n",
       " 'olafsvik',\n",
       " 'somerset east',\n",
       " 'mikkeli',\n",
       " 'asau',\n",
       " 'kuching',\n",
       " 'sola',\n",
       " 'samarai',\n",
       " 'muros',\n",
       " 'tamiahua',\n",
       " 'chiang khong',\n",
       " 'shelburne',\n",
       " 'sakaiminato',\n",
       " 'grand river south east',\n",
       " 'da nang',\n",
       " 'mount isa',\n",
       " 'devils lake',\n",
       " 'kununurra',\n",
       " 'kirakira',\n",
       " 'karratha',\n",
       " 'faya',\n",
       " 'moissac',\n",
       " 'petropavlovsk-kamchatskiy',\n",
       " 'saint-pierre',\n",
       " 'te anau',\n",
       " 'vuktyl',\n",
       " 'tanout',\n",
       " 'yueyang',\n",
       " 'zaraza',\n",
       " 'aitape',\n",
       " 'alyangula',\n",
       " 'cleburne',\n",
       " 'kulhudhuffushi',\n",
       " 'lerwick',\n",
       " 'naryan-mar',\n",
       " 'lima',\n",
       " 'pakxan',\n",
       " 'maromme',\n",
       " 'chinhoyi',\n",
       " 'nemyriv',\n",
       " 'kholm',\n",
       " 'launceston',\n",
       " 'koumac',\n",
       " 'mogocha',\n",
       " 'alofi',\n",
       " 'burnie',\n",
       " 'vanino',\n",
       " 'beloha',\n",
       " 'kimberley',\n",
       " 'manokwari',\n",
       " 'nevel',\n",
       " 'liberty',\n",
       " 'seydi',\n",
       " 'sharlyk',\n",
       " 'khanino',\n",
       " 'praia',\n",
       " 'zheleznogorsk',\n",
       " 'marystown',\n",
       " 'pharr',\n",
       " 'senj',\n",
       " 'zhigansk',\n",
       " 'sobreira',\n",
       " 'khasan',\n",
       " 'vanavara',\n",
       " 'huangmei',\n",
       " 'minna',\n",
       " 'skalistyy',\n",
       " 'hambantota',\n",
       " 'agropoli',\n",
       " 'high rock',\n",
       " 'nantucket',\n",
       " 'takoradi',\n",
       " 'lazaro cardenas',\n",
       " 'olinda',\n",
       " 'half moon bay',\n",
       " 'camp verde',\n",
       " 'hualmay',\n",
       " 'ketchikan',\n",
       " 'wilkie',\n",
       " 'kitoy',\n",
       " 'bonavista']"
      ]
     },
     "execution_count": 4,
     "metadata": {},
     "output_type": "execute_result"
    }
   ],
   "source": [
    "cities"
   ]
  },
  {
   "cell_type": "markdown",
   "metadata": {},
   "source": [
    "### Perform API Calls\n",
    "* Perform a weather check on each city using a series of successive API calls.\n",
    "* Include a print log of each city as it'sbeing processed (with the city number and city name).\n"
   ]
  },
  {
   "cell_type": "code",
   "execution_count": 5,
   "metadata": {},
   "outputs": [],
   "source": [
    "city_looking_for = 'los angeles'\n",
    "url = f\"https://api.openweathermap.org/data/2.5/weather?q={city_looking_for}&appid={weather_api_key}\""
   ]
  },
  {
   "cell_type": "code",
   "execution_count": 6,
   "metadata": {
    "scrolled": true
   },
   "outputs": [
    {
     "data": {
      "text/plain": [
       "{'coord': {'lon': -118.2437, 'lat': 34.0522},\n",
       " 'weather': [{'id': 800,\n",
       "   'main': 'Clear',\n",
       "   'description': 'clear sky',\n",
       "   'icon': '01n'}],\n",
       " 'base': 'stations',\n",
       " 'main': {'temp': 297.89,\n",
       "  'feels_like': 297.62,\n",
       "  'temp_min': 293.13,\n",
       "  'temp_max': 304.93,\n",
       "  'pressure': 1014,\n",
       "  'humidity': 46},\n",
       " 'visibility': 10000,\n",
       " 'wind': {'speed': 3.6, 'deg': 260},\n",
       " 'clouds': {'all': 0},\n",
       " 'dt': 1660450090,\n",
       " 'sys': {'type': 1,\n",
       "  'id': 3694,\n",
       "  'country': 'US',\n",
       "  'sunrise': 1660396391,\n",
       "  'sunset': 1660444958},\n",
       " 'timezone': -25200,\n",
       " 'id': 5368361,\n",
       " 'name': 'Los Angeles',\n",
       " 'cod': 200}"
      ]
     },
     "execution_count": 6,
     "metadata": {},
     "output_type": "execute_result"
    }
   ],
   "source": [
    "response = requests.get(url).json()\n",
    "response"
   ]
  },
  {
   "cell_type": "markdown",
   "metadata": {},
   "source": [
    "### Convert Raw Data to DataFrame\n",
    "* Export the city data into a .csv.\n",
    "* Display the DataFrame"
   ]
  },
  {
   "cell_type": "code",
   "execution_count": 7,
   "metadata": {
    "scrolled": true
   },
   "outputs": [
    {
     "data": {
      "text/html": [
       "<div>\n",
       "<style scoped>\n",
       "    .dataframe tbody tr th:only-of-type {\n",
       "        vertical-align: middle;\n",
       "    }\n",
       "\n",
       "    .dataframe tbody tr th {\n",
       "        vertical-align: top;\n",
       "    }\n",
       "\n",
       "    .dataframe thead th {\n",
       "        text-align: right;\n",
       "    }\n",
       "</style>\n",
       "<table border=\"1\" class=\"dataframe\">\n",
       "  <thead>\n",
       "    <tr style=\"text-align: right;\">\n",
       "      <th></th>\n",
       "      <th>City</th>\n",
       "      <th>Lat</th>\n",
       "      <th>Lng</th>\n",
       "      <th>Max Temp</th>\n",
       "      <th>Humidity</th>\n",
       "      <th>Cloudiness</th>\n",
       "      <th>Wind Speed</th>\n",
       "      <th>Country</th>\n",
       "      <th>Date</th>\n",
       "    </tr>\n",
       "  </thead>\n",
       "  <tbody>\n",
       "    <tr>\n",
       "      <th>0</th>\n",
       "      <td>Los Angeles</td>\n",
       "      <td>34.0522</td>\n",
       "      <td>-118.2437</td>\n",
       "      <td>304.93</td>\n",
       "      <td>46</td>\n",
       "      <td>0</td>\n",
       "      <td>3.6</td>\n",
       "      <td>US</td>\n",
       "      <td>1660450090</td>\n",
       "    </tr>\n",
       "  </tbody>\n",
       "</table>\n",
       "</div>"
      ],
      "text/plain": [
       "          City      Lat       Lng  Max Temp  Humidity  Cloudiness  Wind Speed  \\\n",
       "0  Los Angeles  34.0522 -118.2437    304.93        46           0         3.6   \n",
       "\n",
       "  Country        Date  \n",
       "0      US  1660450090  "
      ]
     },
     "execution_count": 7,
     "metadata": {},
     "output_type": "execute_result"
    }
   ],
   "source": [
    "city = response[\"name\"]\n",
    "lat = response[\"coord\"][\"lat\"]\n",
    "lng = response[\"coord\"][\"lon\"]\n",
    "max_temp = response[\"main\"][\"temp_max\"]\n",
    "humid = response[\"main\"][\"humidity\"]\n",
    "cloudiness = response[\"clouds\"][\"all\"]\n",
    "wind = response[\"wind\"][\"speed\"]\n",
    "country = response[\"sys\"][\"country\"]\n",
    "date = response[\"dt\"]\n",
    "\n",
    "city_weather = {\"City\":[city],\"Lat\":[lat],\"Lng\":[lng],\"Max Temp\":[max_temp],\n",
    "                 \"Humidity\":[humid], \"Cloudiness\": [cloudiness], \"Wind Speed\":[wind],\n",
    "                \"Country\":[country], \"Date\":[date]}\n",
    "pd.DataFrame(city_weather)"
   ]
  },
  {
   "cell_type": "code",
   "execution_count": 42,
   "metadata": {},
   "outputs": [
    {
     "name": "stdout",
     "output_type": "stream",
     "text": [
      "Found castro\n",
      "Found luanda\n",
      "Found bluff\n",
      "Found qaanaaq\n",
      "Found barrow\n",
      "Could not find afmadu\n",
      "Found rikitea\n",
      "Found bagotville\n",
      "Found zabid\n",
      "Found yeppoon\n",
      "Found kapaa\n",
      "Could not find taolanaro\n",
      "Found kahului\n",
      "Found vung tau\n",
      "Found punta arenas\n",
      "Found jamestown\n",
      "Found victoria\n",
      "Found cherskiy\n",
      "Found lagoa\n",
      "Found vaini\n",
      "Found iqaluit\n",
      "Found vierzon\n",
      "Found aden\n",
      "Could not find nizhneyansk\n",
      "Found yellowknife\n",
      "Found bengkulu\n",
      "Found semirom\n",
      "Found ribeira grande\n",
      "Found mahebourg\n",
      "Found tautira\n",
      "Found norman wells\n",
      "Found pevek\n",
      "Found mareeba\n",
      "Found cidreira\n",
      "Found cape town\n",
      "Found luderitz\n",
      "Found zaysan\n",
      "Found inirida\n",
      "Found albany\n",
      "Found nikolskoye\n",
      "Could not find parras\n",
      "Could not find samusu\n",
      "Found saint-philippe\n",
      "Found ulladulla\n",
      "Found nijar\n",
      "Found khandyga\n",
      "Found shenjiamen\n",
      "Could not find sentyabrskiy\n",
      "Found labuhan\n",
      "Found winslow\n",
      "Found kodiak\n",
      "Found port elizabeth\n",
      "Found balakliya\n",
      "Found georgetown\n",
      "Found thompson\n",
      "Found dikson\n",
      "Found ilulissat\n",
      "Found elat\n",
      "Found bethel\n",
      "Found port alfred\n",
      "Found paamiut\n",
      "Found ornskoldsvik\n",
      "Found fortuna\n",
      "Found svetlyy\n",
      "Could not find belushya guba\n",
      "Found buraydah\n",
      "Found bubaque\n",
      "Found tuktoyaktuk\n",
      "Found mataura\n",
      "Could not find halalo\n",
      "Found geraldton\n",
      "Found havelock\n",
      "Found lubaczow\n",
      "Found severo-kurilsk\n",
      "Found hilo\n",
      "Found atuona\n",
      "Could not find kalavrita\n",
      "Found hobart\n",
      "Found constitucion\n",
      "Found roma\n",
      "Found hermanus\n",
      "Found guerrero negro\n",
      "Found banda aceh\n",
      "Could not find warqla\n",
      "Found denpasar\n",
      "Found kasongo-lunda\n",
      "Found hanstholm\n",
      "Found avera\n",
      "Found port lincoln\n",
      "Found vila velha\n",
      "Found domoni\n",
      "Found quatre cocos\n",
      "Found russell\n",
      "Found fare\n",
      "Could not find jinchengjiang\n",
      "Found richards bay\n",
      "Found mecca\n",
      "Found lebu\n",
      "Found teguise\n",
      "Found upernavik\n",
      "Found marsa matruh\n",
      "Found puerto ayora\n",
      "Found nanortalik\n",
      "Found juneau\n",
      "Found bambous virieux\n",
      "Found yuzhno-kurilsk\n",
      "Found ushuaia\n",
      "Found agadez\n",
      "Found xai-xai\n",
      "Found dingle\n",
      "Found kungurtug\n",
      "Could not find sorvag\n",
      "Found nanakuli\n",
      "Found talnakh\n",
      "Found semey\n",
      "Found sechura\n",
      "Found kruisfontein\n",
      "Found busselton\n",
      "Could not find palabuhanratu\n",
      "Found omboue\n",
      "Found abha\n",
      "Found butaritari\n",
      "Found aklavik\n",
      "Found balykshi\n",
      "Found chokurdakh\n",
      "Found panzhihua\n",
      "Found kavieng\n",
      "Found sitka\n",
      "Found salalah\n",
      "Found valparaiso\n",
      "Found narsaq\n",
      "Could not find illoqqortoormiut\n",
      "Found odweyne\n",
      "Found ilheus\n",
      "Found andenes\n",
      "Found megion\n",
      "Found playas\n",
      "Could not find bolungarvik\n",
      "Found ancud\n",
      "Found oktyabrskiy\n",
      "Found tiksi\n",
      "Found marsala\n",
      "Found ojuelos de jalisco\n",
      "Found fairbanks\n",
      "Could not find hunza\n",
      "Found toora-khem\n",
      "Found la macarena\n",
      "Found noumea\n",
      "Found axim\n",
      "Found vardo\n",
      "Found santa cruz\n",
      "Found tolga\n",
      "Found namibe\n",
      "Found esperance\n",
      "Found biak\n",
      "Found khatanga\n",
      "Found san cristobal\n",
      "Found carnarvon\n",
      "Found mar del plata\n",
      "Found wittingen\n",
      "Found inhambane\n",
      "Found new norfolk\n",
      "Could not find attawapiskat\n",
      "Found pokhara\n",
      "Found newton\n",
      "Found killam\n",
      "Found saint petersburg\n",
      "Found nouadhibou\n",
      "Found bom jesus\n",
      "Found panguna\n",
      "Found nizwa\n",
      "Found tarakan\n",
      "Found srednekolymsk\n",
      "Found saskylakh\n",
      "Found kaeo\n",
      "Found cabo san lucas\n",
      "Found namatanai\n",
      "Found bandarbeyla\n",
      "Found dunedin\n",
      "Found tabou\n",
      "Found tasiilaq\n",
      "Found imeni poliny osipenko\n",
      "Found asarganj\n",
      "Found astoria\n",
      "Found neiafu\n",
      "Could not find barentsburg\n",
      "Found snihurivka\n",
      "Found codrington\n",
      "Found avarua\n",
      "Could not find saleaula\n",
      "Found la troncal\n",
      "Found klaksvik\n",
      "Found santa vitoria do palmar\n",
      "Could not find tsentralnyy\n",
      "Found arlit\n",
      "Found mayo\n",
      "Found sumbawanga\n",
      "Found viedma\n",
      "Found swansea\n",
      "Found charters towers\n",
      "Found rocha\n",
      "Found zhezkazgan\n",
      "Found neuquen\n",
      "Found kaitangata\n",
      "Found taoudenni\n",
      "Found komsomolskiy\n",
      "Found riyadh\n",
      "Found deputatskiy\n",
      "Found huarmey\n",
      "Found leshukonskoye\n",
      "Found logstor\n",
      "Found san juan\n",
      "Found ust-nera\n",
      "Found dahuk\n",
      "Could not find tumannyy\n",
      "Found narodychi\n",
      "Found passagem franca\n",
      "Found laguna\n",
      "Found mantua\n",
      "Found souillac\n",
      "Found saint anthony\n",
      "Found keti bandar\n",
      "Could not find bengkalis\n",
      "Found saldanha\n",
      "Found gao\n",
      "Found sabang\n",
      "Found saint-augustin\n",
      "Found east london\n",
      "Found provideniya\n",
      "Found bulaevo\n",
      "Found college\n",
      "Found beisfjord\n",
      "Found ihiala\n",
      "Found longyearbyen\n",
      "Found katsuura\n",
      "Found haines junction\n",
      "Found cockburn town\n",
      "Found broken hill\n",
      "Found paducah\n",
      "Found necochea\n",
      "Found stokmarknes\n",
      "Found mezhdurechensk\n",
      "Could not find tsihombe\n",
      "Found conde\n",
      "Could not find mys shmidta\n",
      "Found bilma\n",
      "Found athabasca\n",
      "Found matara\n",
      "Found gobabis\n",
      "Found edson\n",
      "Found nyurba\n",
      "Found qui nhon\n",
      "Found freeport\n",
      "Found tres palos\n",
      "Found tabatinga\n",
      "Could not find amderma\n",
      "Found santa rosa\n",
      "Found barcelona\n",
      "Found nishihara\n",
      "Found dakar\n",
      "Found gandai\n",
      "Found tottori\n",
      "Found santa maria\n",
      "Found makakilo city\n",
      "Found vila do maio\n",
      "Could not find khormuj\n",
      "Found lufilufi\n",
      "Found bredasdorp\n",
      "Found simoes\n",
      "Found malya\n",
      "Found airai\n",
      "Found kabinda\n",
      "Found port macquarie\n",
      "Could not find vaitupu\n",
      "Found rio grande\n",
      "Found yangjiang\n",
      "Found mingaora\n",
      "Found rantoul\n",
      "Found aykhal\n",
      "Could not find lolua\n",
      "Found chuy\n",
      "Found jackson\n",
      "Found ulfborg\n",
      "Found korla\n",
      "Found kudahuvadhoo\n",
      "Found nemuro\n",
      "Found beringovskiy\n",
      "Found saint-joseph\n",
      "Found sao filipe\n",
      "Found ixtapa\n",
      "Found tahta\n",
      "Found vao\n",
      "Found vaitape\n",
      "Found abapo\n",
      "Found reconquista\n",
      "Found esso\n",
      "Found udachnyy\n",
      "Found zyryanka\n",
      "Found shimoda\n",
      "Found sao joao da barra\n",
      "Found kheda\n",
      "Found bloomfield\n",
      "Found elko\n",
      "Found kolyvan\n",
      "Found isangel\n",
      "Found boa vista\n",
      "Found grindavik\n",
      "Found san antonio\n",
      "Found pangkalanbuun\n",
      "Found suriapet\n",
      "Could not find bokspits\n",
      "Found sabha\n",
      "Could not find kazalinsk\n",
      "Found port blair\n",
      "Found astolfo dutra\n",
      "Found abnub\n",
      "Found pueblo nuevo\n",
      "Found cozumel\n",
      "Found adrar\n",
      "Found lompoc\n",
      "Found ostrovnoy\n",
      "Found coihaique\n",
      "Found saint-andre-les-vergers\n",
      "Found umm lajj\n",
      "Found cam ranh\n",
      "Found madang\n",
      "Found huadian\n",
      "Found peleduy\n",
      "Could not find burkhala\n",
      "Found torbay\n",
      "Found yar-sale\n",
      "Found meulaboh\n",
      "Found nuevitas\n",
      "Found ranchuelo\n",
      "Found kaohsiung\n",
      "Found saint george\n",
      "Found lorengau\n",
      "Found sault sainte marie\n",
      "Found whitehorse\n",
      "Found arraial do cabo\n",
      "Found harindanga\n",
      "Found ust-kuyga\n",
      "Found okato\n",
      "Found faanui\n",
      "Found araouane\n",
      "Found hervey bay\n",
      "Found ahipara\n",
      "Found waipawa\n",
      "Found jinotega\n",
      "Found novikovo\n",
      "Found srandakan\n",
      "Found hofn\n",
      "Found guangyuan\n",
      "Found aripuana\n",
      "Found altar\n",
      "Found bathsheba\n",
      "Found rawson\n",
      "Found mao\n",
      "Found helena\n",
      "Found boshnyakovo\n",
      "Found fengrun\n",
      "Found uaua\n",
      "Found kapoeta\n",
      "Found tuatapere\n",
      "Found youghal\n",
      "Could not find haapu\n",
      "Found leningradskiy\n",
      "Found ponta do sol\n",
      "Found dunda\n",
      "Found eyl\n",
      "Found ballyhaunis\n",
      "Found goundam\n",
      "Found kuningan\n",
      "Could not find kamenskoye\n",
      "Found barra do garcas\n",
      "Found maningrida\n",
      "Found poienile de sub munte\n",
      "Found hoorn\n",
      "Found nenjiang\n",
      "Found kokorevka\n",
      "Found la romana\n",
      "Could not find ngukurr\n",
      "Could not find alotau\n",
      "Could not find barawe\n",
      "Found smithers\n",
      "Found haverfordwest\n",
      "Found tornio\n",
      "Could not find mullaitivu\n",
      "Found kalianget\n",
      "Found caravelas\n",
      "Found hithadhoo\n",
      "Found soe\n",
      "Found teguldet\n",
      "Found pisco\n",
      "Could not find malwan\n",
      "Found coquimbo\n",
      "Found eirunepe\n",
      "Found bujumbura\n",
      "Found okha\n",
      "Found sur\n",
      "Found tadine\n",
      "Could not find burica\n",
      "Found polyarnyy\n",
      "Found shevchenkove\n",
      "Found kalmunai\n",
      "Found kiruna\n",
      "Found itarema\n",
      "Found talcahuano\n",
      "Found gisborne\n",
      "Found shingu\n",
      "Found lata\n",
      "Found kidal\n",
      "Found puerto quijarro\n",
      "Found lasa\n",
      "Found nyaunglebin\n",
      "Found nouakchott\n",
      "Found espanola\n",
      "Found margate\n",
      "Could not find tarudant\n",
      "Found husavik\n",
      "Found niltepec\n",
      "Found lavrentiya\n",
      "Found dodola\n",
      "Found buenos aires\n",
      "Found mandalgovi\n",
      "Could not find mrirt\n",
      "Found severo-yeniseyskiy\n",
      "Found maceio\n",
      "Found pacific grove\n",
      "Found san quintin\n",
      "Found kawalu\n",
      "Found jacareacanga\n",
      "Found ust-tsilma\n",
      "Could not find falaleu\n",
      "Found kihei\n",
      "Found miravci\n",
      "Found donji vakuf\n",
      "Found yicheng\n",
      "Found hovd\n",
      "Found ahuimanu\n",
      "Found kyra\n",
      "Found camacha\n",
      "Found mwinilunga\n",
      "Found portland\n",
      "Found saint-francois\n",
      "Found moussoro\n",
      "Could not find samalaeulu\n",
      "Found iquique\n",
      "Could not find a\n",
      "Found inuvik\n",
      "Found verkhovye\n",
      "Found ende\n",
      "Found hailun\n",
      "Could not find wahran\n",
      "Found harper\n",
      "Found aqtobe\n",
      "Found voh\n",
      "Found anamur\n",
      "Found bukoba\n",
      "Could not find jarjis\n",
      "Found novyy urengoy\n",
      "Could not find suao\n",
      "Found smolenka\n",
      "Found porbandar\n",
      "Found sinnamary\n",
      "Found miraflores\n",
      "Found tamandare\n",
      "Found ginda\n",
      "Found rio cuarto\n",
      "Found marrakesh\n",
      "Found antalaha\n",
      "Could not find acin\n",
      "Found altus\n",
      "Found kailua\n",
      "Found flin flon\n",
      "Found bambanglipuro\n",
      "Found saryg-sep\n",
      "Found roald\n",
      "Found grand gaube\n",
      "Found nome\n",
      "Found sooke\n",
      "Found goderich\n",
      "Found kavaratti\n",
      "Found darasti-ilfov\n",
      "Found terrace\n",
      "Found benghazi\n",
      "Found puksoozero\n",
      "Found kushima\n",
      "Found ukhta\n",
      "Found pierre\n",
      "Found deep river\n",
      "Found eurajoki\n",
      "Found asosa\n",
      "Found rodeo\n",
      "Found tezu\n",
      "Found ormara\n",
      "Found mailsi\n",
      "Could not find taburao\n",
      "Found albertville\n",
      "Found urusha\n",
      "Found ozernovskiy\n",
      "Found heihe\n",
      "Found gunjur\n",
      "Found imbituba\n",
      "Found tlucna\n",
      "Found chulym\n",
      "Found hyeres\n",
      "Found zaoyang\n",
      "Found clyde river\n"
     ]
    },
    {
     "name": "stdout",
     "output_type": "stream",
     "text": [
      "Found aksarka\n",
      "Found kosonsoy\n",
      "Found bontang\n",
      "Found vestmannaeyjar\n",
      "Could not find andevoranto\n",
      "Found bethanien\n",
      "Found carutapera\n",
      "Found auki\n",
      "Found aleksandrovsk-sakhalinskiy\n",
      "Found gouyave\n",
      "Found pankrushikha\n",
      "Found melhus\n",
      "Found olafsvik\n",
      "Found somerset east\n",
      "Found mikkeli\n",
      "Found asau\n",
      "Found kuching\n",
      "Found sola\n",
      "Found samarai\n",
      "Found muros\n",
      "Found tamiahua\n",
      "Found chiang khong\n",
      "Found shelburne\n",
      "Found sakaiminato\n",
      "Could not find grand river south east\n",
      "Found da nang\n",
      "Found mount isa\n",
      "Found devils lake\n",
      "Found kununurra\n",
      "Found kirakira\n",
      "Found karratha\n",
      "Found faya\n",
      "Found moissac\n",
      "Found petropavlovsk-kamchatskiy\n",
      "Found saint-pierre\n",
      "Found te anau\n",
      "Found vuktyl\n",
      "Found tanout\n",
      "Found yueyang\n",
      "Found zaraza\n",
      "Found aitape\n",
      "Found alyangula\n",
      "Found cleburne\n",
      "Found kulhudhuffushi\n",
      "Found lerwick\n",
      "Found naryan-mar\n",
      "Found lima\n",
      "Found pakxan\n",
      "Found maromme\n",
      "Found chinhoyi\n",
      "Found nemyriv\n",
      "Found kholm\n",
      "Found launceston\n",
      "Found koumac\n",
      "Found mogocha\n",
      "Found alofi\n",
      "Found burnie\n",
      "Found vanino\n",
      "Found beloha\n",
      "Found kimberley\n",
      "Found manokwari\n",
      "Found nevel\n",
      "Found liberty\n",
      "Found seydi\n",
      "Found sharlyk\n",
      "Found khanino\n",
      "Found praia\n",
      "Found zheleznogorsk\n",
      "Found marystown\n",
      "Found pharr\n",
      "Found senj\n",
      "Found zhigansk\n",
      "Found sobreira\n",
      "Found khasan\n",
      "Found vanavara\n",
      "Found huangmei\n",
      "Found minna\n",
      "Could not find skalistyy\n",
      "Found hambantota\n",
      "Found agropoli\n",
      "Found high rock\n",
      "Found nantucket\n",
      "Found takoradi\n",
      "Found lazaro cardenas\n",
      "Found olinda\n",
      "Found half moon bay\n",
      "Found camp verde\n",
      "Found hualmay\n",
      "Found ketchikan\n",
      "Found wilkie\n",
      "Found kitoy\n",
      "Found bonavista\n"
     ]
    }
   ],
   "source": [
    "all_cities = []\n",
    "url = f\"https://api.openweathermap.org/data/2.5/weather?units=imperial&appid={weather_api_key}&q=\"\n",
    "\n",
    "for c in cities:\n",
    "    response = requests.get(url + c).json()\n",
    "    try:\n",
    "        city = response[\"name\"]\n",
    "        lat = response[\"coord\"][\"lat\"]\n",
    "        lng = response[\"coord\"][\"lon\"]\n",
    "        max_temp = response[\"main\"][\"temp_max\"]\n",
    "        humid = response[\"main\"][\"humidity\"]\n",
    "        cloudiness = response[\"clouds\"][\"all\"]\n",
    "        wind = response[\"wind\"][\"speed\"]\n",
    "        country = response[\"sys\"][\"country\"]\n",
    "        date = response[\"dt\"]\n",
    "\n",
    "        city_dict = {\"City\":city,\"Lat\":lat,\"Lng\":lng,\"Max Temp\":max_temp,\n",
    "                     \"Humidity\":humid, \"Cloudiness\": cloudiness, \"Wind Speed\":wind,\n",
    "                    \"Country\":country, \"Date\":date}\n",
    "        all_cities.append(city_dict)\n",
    "        print(\"Found \" + c)\n",
    "    except Exception as e:\n",
    "        print(\"Could not find \" + c)\n",
    "\n",
    "waeather_df = pd.DataFrame(all_cities)\n",
    "    "
   ]
  },
  {
   "cell_type": "code",
   "execution_count": 43,
   "metadata": {},
   "outputs": [],
   "source": [
    "waeather_df.to_csv(output_data_file)"
   ]
  },
  {
   "cell_type": "code",
   "execution_count": 11,
   "metadata": {},
   "outputs": [
    {
     "data": {
      "text/html": [
       "<div>\n",
       "<style scoped>\n",
       "    .dataframe tbody tr th:only-of-type {\n",
       "        vertical-align: middle;\n",
       "    }\n",
       "\n",
       "    .dataframe tbody tr th {\n",
       "        vertical-align: top;\n",
       "    }\n",
       "\n",
       "    .dataframe thead th {\n",
       "        text-align: right;\n",
       "    }\n",
       "</style>\n",
       "<table border=\"1\" class=\"dataframe\">\n",
       "  <thead>\n",
       "    <tr style=\"text-align: right;\">\n",
       "      <th></th>\n",
       "      <th>Unnamed: 0</th>\n",
       "      <th>City</th>\n",
       "      <th>Lat</th>\n",
       "      <th>Lng</th>\n",
       "      <th>Max Temp</th>\n",
       "      <th>Humidity</th>\n",
       "      <th>Cloudiness</th>\n",
       "      <th>Wind Speed</th>\n",
       "      <th>Country</th>\n",
       "      <th>Date</th>\n",
       "    </tr>\n",
       "  </thead>\n",
       "  <tbody>\n",
       "    <tr>\n",
       "      <th>0</th>\n",
       "      <td>0</td>\n",
       "      <td>East London</td>\n",
       "      <td>-33.0153</td>\n",
       "      <td>27.9116</td>\n",
       "      <td>67.14</td>\n",
       "      <td>63</td>\n",
       "      <td>0</td>\n",
       "      <td>4.61</td>\n",
       "      <td>ZA</td>\n",
       "      <td>1659450570</td>\n",
       "    </tr>\n",
       "    <tr>\n",
       "      <th>1</th>\n",
       "      <td>1</td>\n",
       "      <td>Upernavik</td>\n",
       "      <td>72.7868</td>\n",
       "      <td>-56.1549</td>\n",
       "      <td>45.25</td>\n",
       "      <td>80</td>\n",
       "      <td>87</td>\n",
       "      <td>11.54</td>\n",
       "      <td>GL</td>\n",
       "      <td>1659450570</td>\n",
       "    </tr>\n",
       "    <tr>\n",
       "      <th>2</th>\n",
       "      <td>2</td>\n",
       "      <td>Rikitea</td>\n",
       "      <td>-23.1203</td>\n",
       "      <td>-134.9692</td>\n",
       "      <td>72.95</td>\n",
       "      <td>72</td>\n",
       "      <td>83</td>\n",
       "      <td>21.81</td>\n",
       "      <td>PF</td>\n",
       "      <td>1659450571</td>\n",
       "    </tr>\n",
       "    <tr>\n",
       "      <th>3</th>\n",
       "      <td>3</td>\n",
       "      <td>Inuvik</td>\n",
       "      <td>68.3499</td>\n",
       "      <td>-133.7218</td>\n",
       "      <td>48.96</td>\n",
       "      <td>100</td>\n",
       "      <td>100</td>\n",
       "      <td>10.36</td>\n",
       "      <td>CA</td>\n",
       "      <td>1659450571</td>\n",
       "    </tr>\n",
       "    <tr>\n",
       "      <th>4</th>\n",
       "      <td>4</td>\n",
       "      <td>Kharan</td>\n",
       "      <td>28.5833</td>\n",
       "      <td>65.4167</td>\n",
       "      <td>102.67</td>\n",
       "      <td>15</td>\n",
       "      <td>15</td>\n",
       "      <td>2.08</td>\n",
       "      <td>PK</td>\n",
       "      <td>1659450572</td>\n",
       "    </tr>\n",
       "  </tbody>\n",
       "</table>\n",
       "</div>"
      ],
      "text/plain": [
       "   Unnamed: 0         City      Lat       Lng  Max Temp  Humidity  Cloudiness  \\\n",
       "0           0  East London -33.0153   27.9116     67.14        63           0   \n",
       "1           1    Upernavik  72.7868  -56.1549     45.25        80          87   \n",
       "2           2      Rikitea -23.1203 -134.9692     72.95        72          83   \n",
       "3           3       Inuvik  68.3499 -133.7218     48.96       100         100   \n",
       "4           4       Kharan  28.5833   65.4167    102.67        15          15   \n",
       "\n",
       "   Wind Speed Country        Date  \n",
       "0        4.61      ZA  1659450570  \n",
       "1       11.54      GL  1659450570  \n",
       "2       21.81      PF  1659450571  \n",
       "3       10.36      CA  1659450571  \n",
       "4        2.08      PK  1659450572  "
      ]
     },
     "execution_count": 11,
     "metadata": {},
     "output_type": "execute_result"
    }
   ],
   "source": [
    "output_data = pd.read_csv(output_data_file)\n",
    "output_data.head()"
   ]
  },
  {
   "cell_type": "markdown",
   "metadata": {},
   "source": [
    "## Inspect the data and remove the cities where the humidity > 100%.\n",
    "----\n",
    "Skip this step if there are no cities that have humidity > 100%. "
   ]
  },
  {
   "cell_type": "code",
   "execution_count": 12,
   "metadata": {},
   "outputs": [
    {
     "data": {
      "text/html": [
       "<div>\n",
       "<style scoped>\n",
       "    .dataframe tbody tr th:only-of-type {\n",
       "        vertical-align: middle;\n",
       "    }\n",
       "\n",
       "    .dataframe tbody tr th {\n",
       "        vertical-align: top;\n",
       "    }\n",
       "\n",
       "    .dataframe thead th {\n",
       "        text-align: right;\n",
       "    }\n",
       "</style>\n",
       "<table border=\"1\" class=\"dataframe\">\n",
       "  <thead>\n",
       "    <tr style=\"text-align: right;\">\n",
       "      <th></th>\n",
       "      <th>Unnamed: 0</th>\n",
       "      <th>City</th>\n",
       "      <th>Lat</th>\n",
       "      <th>Lng</th>\n",
       "      <th>Max Temp</th>\n",
       "      <th>Humidity</th>\n",
       "      <th>Cloudiness</th>\n",
       "      <th>Wind Speed</th>\n",
       "      <th>Country</th>\n",
       "      <th>Date</th>\n",
       "    </tr>\n",
       "  </thead>\n",
       "  <tbody>\n",
       "    <tr>\n",
       "      <th>3</th>\n",
       "      <td>3</td>\n",
       "      <td>Inuvik</td>\n",
       "      <td>68.3499</td>\n",
       "      <td>-133.7218</td>\n",
       "      <td>48.96</td>\n",
       "      <td>100</td>\n",
       "      <td>100</td>\n",
       "      <td>10.36</td>\n",
       "      <td>CA</td>\n",
       "      <td>1659450571</td>\n",
       "    </tr>\n",
       "    <tr>\n",
       "      <th>142</th>\n",
       "      <td>142</td>\n",
       "      <td>Thompson</td>\n",
       "      <td>55.7435</td>\n",
       "      <td>-97.8558</td>\n",
       "      <td>55.56</td>\n",
       "      <td>100</td>\n",
       "      <td>100</td>\n",
       "      <td>0.00</td>\n",
       "      <td>CA</td>\n",
       "      <td>1659450628</td>\n",
       "    </tr>\n",
       "    <tr>\n",
       "      <th>171</th>\n",
       "      <td>171</td>\n",
       "      <td>Tuktoyaktuk</td>\n",
       "      <td>69.4541</td>\n",
       "      <td>-133.0374</td>\n",
       "      <td>48.20</td>\n",
       "      <td>100</td>\n",
       "      <td>100</td>\n",
       "      <td>10.36</td>\n",
       "      <td>CA</td>\n",
       "      <td>1659450640</td>\n",
       "    </tr>\n",
       "    <tr>\n",
       "      <th>214</th>\n",
       "      <td>214</td>\n",
       "      <td>Clyde River</td>\n",
       "      <td>70.4692</td>\n",
       "      <td>-68.5914</td>\n",
       "      <td>41.23</td>\n",
       "      <td>100</td>\n",
       "      <td>100</td>\n",
       "      <td>12.66</td>\n",
       "      <td>CA</td>\n",
       "      <td>1659450655</td>\n",
       "    </tr>\n",
       "    <tr>\n",
       "      <th>222</th>\n",
       "      <td>222</td>\n",
       "      <td>Peace River</td>\n",
       "      <td>56.2501</td>\n",
       "      <td>-117.2860</td>\n",
       "      <td>55.71</td>\n",
       "      <td>100</td>\n",
       "      <td>100</td>\n",
       "      <td>17.27</td>\n",
       "      <td>CA</td>\n",
       "      <td>1659450658</td>\n",
       "    </tr>\n",
       "    <tr>\n",
       "      <th>386</th>\n",
       "      <td>386</td>\n",
       "      <td>Udachny</td>\n",
       "      <td>66.4167</td>\n",
       "      <td>112.4000</td>\n",
       "      <td>46.45</td>\n",
       "      <td>100</td>\n",
       "      <td>100</td>\n",
       "      <td>17.36</td>\n",
       "      <td>RU</td>\n",
       "      <td>1659450735</td>\n",
       "    </tr>\n",
       "  </tbody>\n",
       "</table>\n",
       "</div>"
      ],
      "text/plain": [
       "     Unnamed: 0         City      Lat       Lng  Max Temp  Humidity  \\\n",
       "3             3       Inuvik  68.3499 -133.7218     48.96       100   \n",
       "142         142     Thompson  55.7435  -97.8558     55.56       100   \n",
       "171         171  Tuktoyaktuk  69.4541 -133.0374     48.20       100   \n",
       "214         214  Clyde River  70.4692  -68.5914     41.23       100   \n",
       "222         222  Peace River  56.2501 -117.2860     55.71       100   \n",
       "386         386      Udachny  66.4167  112.4000     46.45       100   \n",
       "\n",
       "     Cloudiness  Wind Speed Country        Date  \n",
       "3           100       10.36      CA  1659450571  \n",
       "142         100        0.00      CA  1659450628  \n",
       "171         100       10.36      CA  1659450640  \n",
       "214         100       12.66      CA  1659450655  \n",
       "222         100       17.27      CA  1659450658  \n",
       "386         100       17.36      RU  1659450735  "
      ]
     },
     "execution_count": 12,
     "metadata": {},
     "output_type": "execute_result"
    }
   ],
   "source": [
    "#  Get the indices of cities that have humidity over 100%.\n",
    "humidity_df = output_data.loc[(output_data[\"Humidity\"] >= 100)]\n",
    "humidity_df.head(6)"
   ]
  },
  {
   "cell_type": "code",
   "execution_count": 13,
   "metadata": {},
   "outputs": [
    {
     "data": {
      "text/plain": [
       "Unnamed: 0    6\n",
       "City          6\n",
       "Lat           6\n",
       "Lng           6\n",
       "Max Temp      6\n",
       "Humidity      6\n",
       "Cloudiness    6\n",
       "Wind Speed    6\n",
       "Country       6\n",
       "Date          6\n",
       "dtype: int64"
      ]
     },
     "execution_count": 13,
     "metadata": {},
     "output_type": "execute_result"
    }
   ],
   "source": [
    "humidity_df.count()"
   ]
  },
  {
   "cell_type": "code",
   "execution_count": 14,
   "metadata": {},
   "outputs": [
    {
     "data": {
      "text/html": [
       "<div>\n",
       "<style scoped>\n",
       "    .dataframe tbody tr th:only-of-type {\n",
       "        vertical-align: middle;\n",
       "    }\n",
       "\n",
       "    .dataframe tbody tr th {\n",
       "        vertical-align: top;\n",
       "    }\n",
       "\n",
       "    .dataframe thead th {\n",
       "        text-align: right;\n",
       "    }\n",
       "</style>\n",
       "<table border=\"1\" class=\"dataframe\">\n",
       "  <thead>\n",
       "    <tr style=\"text-align: right;\">\n",
       "      <th></th>\n",
       "      <th>Unnamed: 0</th>\n",
       "      <th>City</th>\n",
       "      <th>Lat</th>\n",
       "      <th>Lng</th>\n",
       "      <th>Max Temp</th>\n",
       "      <th>Humidity</th>\n",
       "      <th>Cloudiness</th>\n",
       "      <th>Wind Speed</th>\n",
       "      <th>Country</th>\n",
       "      <th>Date</th>\n",
       "    </tr>\n",
       "  </thead>\n",
       "  <tbody>\n",
       "    <tr>\n",
       "      <th>0</th>\n",
       "      <td>0</td>\n",
       "      <td>East London</td>\n",
       "      <td>-33.0153</td>\n",
       "      <td>27.9116</td>\n",
       "      <td>67.14</td>\n",
       "      <td>63</td>\n",
       "      <td>0</td>\n",
       "      <td>4.61</td>\n",
       "      <td>ZA</td>\n",
       "      <td>1659450570</td>\n",
       "    </tr>\n",
       "    <tr>\n",
       "      <th>1</th>\n",
       "      <td>1</td>\n",
       "      <td>Upernavik</td>\n",
       "      <td>72.7868</td>\n",
       "      <td>-56.1549</td>\n",
       "      <td>45.25</td>\n",
       "      <td>80</td>\n",
       "      <td>87</td>\n",
       "      <td>11.54</td>\n",
       "      <td>GL</td>\n",
       "      <td>1659450570</td>\n",
       "    </tr>\n",
       "    <tr>\n",
       "      <th>2</th>\n",
       "      <td>2</td>\n",
       "      <td>Rikitea</td>\n",
       "      <td>-23.1203</td>\n",
       "      <td>-134.9692</td>\n",
       "      <td>72.95</td>\n",
       "      <td>72</td>\n",
       "      <td>83</td>\n",
       "      <td>21.81</td>\n",
       "      <td>PF</td>\n",
       "      <td>1659450571</td>\n",
       "    </tr>\n",
       "    <tr>\n",
       "      <th>4</th>\n",
       "      <td>4</td>\n",
       "      <td>Kharan</td>\n",
       "      <td>28.5833</td>\n",
       "      <td>65.4167</td>\n",
       "      <td>102.67</td>\n",
       "      <td>15</td>\n",
       "      <td>15</td>\n",
       "      <td>2.08</td>\n",
       "      <td>PK</td>\n",
       "      <td>1659450572</td>\n",
       "    </tr>\n",
       "    <tr>\n",
       "      <th>5</th>\n",
       "      <td>5</td>\n",
       "      <td>Agüimes</td>\n",
       "      <td>27.9054</td>\n",
       "      <td>-15.4461</td>\n",
       "      <td>83.03</td>\n",
       "      <td>54</td>\n",
       "      <td>20</td>\n",
       "      <td>29.93</td>\n",
       "      <td>ES</td>\n",
       "      <td>1659449997</td>\n",
       "    </tr>\n",
       "  </tbody>\n",
       "</table>\n",
       "</div>"
      ],
      "text/plain": [
       "   Unnamed: 0         City      Lat       Lng  Max Temp  Humidity  Cloudiness  \\\n",
       "0           0  East London -33.0153   27.9116     67.14        63           0   \n",
       "1           1    Upernavik  72.7868  -56.1549     45.25        80          87   \n",
       "2           2      Rikitea -23.1203 -134.9692     72.95        72          83   \n",
       "4           4       Kharan  28.5833   65.4167    102.67        15          15   \n",
       "5           5      Agüimes  27.9054  -15.4461     83.03        54          20   \n",
       "\n",
       "   Wind Speed Country        Date  \n",
       "0        4.61      ZA  1659450570  \n",
       "1       11.54      GL  1659450570  \n",
       "2       21.81      PF  1659450571  \n",
       "4        2.08      PK  1659450572  \n",
       "5       29.93      ES  1659449997  "
      ]
     },
     "execution_count": 14,
     "metadata": {},
     "output_type": "execute_result"
    }
   ],
   "source": [
    "reduced_humidity_df = output_data.loc[(output_data[\"Humidity\"] < 100)]\n",
    "reduced_humidity_df.head()"
   ]
  },
  {
   "cell_type": "code",
   "execution_count": 15,
   "metadata": {},
   "outputs": [
    {
     "data": {
      "text/html": [
       "<div>\n",
       "<style scoped>\n",
       "    .dataframe tbody tr th:only-of-type {\n",
       "        vertical-align: middle;\n",
       "    }\n",
       "\n",
       "    .dataframe tbody tr th {\n",
       "        vertical-align: top;\n",
       "    }\n",
       "\n",
       "    .dataframe thead th {\n",
       "        text-align: right;\n",
       "    }\n",
       "</style>\n",
       "<table border=\"1\" class=\"dataframe\">\n",
       "  <thead>\n",
       "    <tr style=\"text-align: right;\">\n",
       "      <th></th>\n",
       "      <th>Unnamed: 0</th>\n",
       "      <th>Lat</th>\n",
       "      <th>Lng</th>\n",
       "      <th>Max Temp</th>\n",
       "      <th>Humidity</th>\n",
       "      <th>Cloudiness</th>\n",
       "      <th>Wind Speed</th>\n",
       "      <th>Date</th>\n",
       "    </tr>\n",
       "  </thead>\n",
       "  <tbody>\n",
       "    <tr>\n",
       "      <th>count</th>\n",
       "      <td>567.000000</td>\n",
       "      <td>567.000000</td>\n",
       "      <td>567.000000</td>\n",
       "      <td>567.000000</td>\n",
       "      <td>567.000000</td>\n",
       "      <td>567.000000</td>\n",
       "      <td>567.000000</td>\n",
       "      <td>5.670000e+02</td>\n",
       "    </tr>\n",
       "    <tr>\n",
       "      <th>mean</th>\n",
       "      <td>287.019400</td>\n",
       "      <td>19.988972</td>\n",
       "      <td>17.054718</td>\n",
       "      <td>73.003298</td>\n",
       "      <td>68.280423</td>\n",
       "      <td>55.142857</td>\n",
       "      <td>8.414568</td>\n",
       "      <td>1.659451e+09</td>\n",
       "    </tr>\n",
       "    <tr>\n",
       "      <th>std</th>\n",
       "      <td>165.717962</td>\n",
       "      <td>32.727833</td>\n",
       "      <td>89.468767</td>\n",
       "      <td>13.954653</td>\n",
       "      <td>20.698168</td>\n",
       "      <td>39.176583</td>\n",
       "      <td>5.876487</td>\n",
       "      <td>2.303326e+02</td>\n",
       "    </tr>\n",
       "    <tr>\n",
       "      <th>min</th>\n",
       "      <td>0.000000</td>\n",
       "      <td>-54.800000</td>\n",
       "      <td>-179.166700</td>\n",
       "      <td>33.550000</td>\n",
       "      <td>7.000000</td>\n",
       "      <td>0.000000</td>\n",
       "      <td>0.000000</td>\n",
       "      <td>1.659450e+09</td>\n",
       "    </tr>\n",
       "    <tr>\n",
       "      <th>25%</th>\n",
       "      <td>143.500000</td>\n",
       "      <td>-7.067200</td>\n",
       "      <td>-60.702550</td>\n",
       "      <td>63.245000</td>\n",
       "      <td>58.000000</td>\n",
       "      <td>17.000000</td>\n",
       "      <td>4.340000</td>\n",
       "      <td>1.659451e+09</td>\n",
       "    </tr>\n",
       "    <tr>\n",
       "      <th>50%</th>\n",
       "      <td>288.000000</td>\n",
       "      <td>23.383300</td>\n",
       "      <td>21.178600</td>\n",
       "      <td>75.960000</td>\n",
       "      <td>72.000000</td>\n",
       "      <td>60.000000</td>\n",
       "      <td>6.910000</td>\n",
       "      <td>1.659451e+09</td>\n",
       "    </tr>\n",
       "    <tr>\n",
       "      <th>75%</th>\n",
       "      <td>430.500000</td>\n",
       "      <td>46.551100</td>\n",
       "      <td>96.785000</td>\n",
       "      <td>82.370000</td>\n",
       "      <td>84.000000</td>\n",
       "      <td>98.500000</td>\n",
       "      <td>10.970000</td>\n",
       "      <td>1.659451e+09</td>\n",
       "    </tr>\n",
       "    <tr>\n",
       "      <th>max</th>\n",
       "      <td>572.000000</td>\n",
       "      <td>78.218600</td>\n",
       "      <td>179.316700</td>\n",
       "      <td>115.140000</td>\n",
       "      <td>99.000000</td>\n",
       "      <td>100.000000</td>\n",
       "      <td>33.380000</td>\n",
       "      <td>1.659451e+09</td>\n",
       "    </tr>\n",
       "  </tbody>\n",
       "</table>\n",
       "</div>"
      ],
      "text/plain": [
       "       Unnamed: 0         Lat         Lng    Max Temp    Humidity  Cloudiness  \\\n",
       "count  567.000000  567.000000  567.000000  567.000000  567.000000  567.000000   \n",
       "mean   287.019400   19.988972   17.054718   73.003298   68.280423   55.142857   \n",
       "std    165.717962   32.727833   89.468767   13.954653   20.698168   39.176583   \n",
       "min      0.000000  -54.800000 -179.166700   33.550000    7.000000    0.000000   \n",
       "25%    143.500000   -7.067200  -60.702550   63.245000   58.000000   17.000000   \n",
       "50%    288.000000   23.383300   21.178600   75.960000   72.000000   60.000000   \n",
       "75%    430.500000   46.551100   96.785000   82.370000   84.000000   98.500000   \n",
       "max    572.000000   78.218600  179.316700  115.140000   99.000000  100.000000   \n",
       "\n",
       "       Wind Speed          Date  \n",
       "count  567.000000  5.670000e+02  \n",
       "mean     8.414568  1.659451e+09  \n",
       "std      5.876487  2.303326e+02  \n",
       "min      0.000000  1.659450e+09  \n",
       "25%      4.340000  1.659451e+09  \n",
       "50%      6.910000  1.659451e+09  \n",
       "75%     10.970000  1.659451e+09  \n",
       "max     33.380000  1.659451e+09  "
      ]
     },
     "execution_count": 15,
     "metadata": {},
     "output_type": "execute_result"
    }
   ],
   "source": [
    "reduced_humidity_df.describe()"
   ]
  },
  {
   "cell_type": "code",
   "execution_count": 16,
   "metadata": {},
   "outputs": [
    {
     "data": {
      "text/html": [
       "<div>\n",
       "<style scoped>\n",
       "    .dataframe tbody tr th:only-of-type {\n",
       "        vertical-align: middle;\n",
       "    }\n",
       "\n",
       "    .dataframe tbody tr th {\n",
       "        vertical-align: top;\n",
       "    }\n",
       "\n",
       "    .dataframe thead th {\n",
       "        text-align: right;\n",
       "    }\n",
       "</style>\n",
       "<table border=\"1\" class=\"dataframe\">\n",
       "  <thead>\n",
       "    <tr style=\"text-align: right;\">\n",
       "      <th></th>\n",
       "      <th>City</th>\n",
       "      <th>Lat</th>\n",
       "      <th>Lng</th>\n",
       "      <th>Max Temp</th>\n",
       "      <th>Humidity</th>\n",
       "      <th>Cloudiness</th>\n",
       "      <th>Wind Speed</th>\n",
       "      <th>Country</th>\n",
       "      <th>Date</th>\n",
       "    </tr>\n",
       "  </thead>\n",
       "  <tbody>\n",
       "    <tr>\n",
       "      <th>0</th>\n",
       "      <td>East London</td>\n",
       "      <td>-33.0153</td>\n",
       "      <td>27.9116</td>\n",
       "      <td>67.14</td>\n",
       "      <td>63</td>\n",
       "      <td>0</td>\n",
       "      <td>4.61</td>\n",
       "      <td>ZA</td>\n",
       "      <td>1659450570</td>\n",
       "    </tr>\n",
       "    <tr>\n",
       "      <th>1</th>\n",
       "      <td>Upernavik</td>\n",
       "      <td>72.7868</td>\n",
       "      <td>-56.1549</td>\n",
       "      <td>45.25</td>\n",
       "      <td>80</td>\n",
       "      <td>87</td>\n",
       "      <td>11.54</td>\n",
       "      <td>GL</td>\n",
       "      <td>1659450570</td>\n",
       "    </tr>\n",
       "    <tr>\n",
       "      <th>2</th>\n",
       "      <td>Rikitea</td>\n",
       "      <td>-23.1203</td>\n",
       "      <td>-134.9692</td>\n",
       "      <td>72.95</td>\n",
       "      <td>72</td>\n",
       "      <td>83</td>\n",
       "      <td>21.81</td>\n",
       "      <td>PF</td>\n",
       "      <td>1659450571</td>\n",
       "    </tr>\n",
       "    <tr>\n",
       "      <th>4</th>\n",
       "      <td>Kharan</td>\n",
       "      <td>28.5833</td>\n",
       "      <td>65.4167</td>\n",
       "      <td>102.67</td>\n",
       "      <td>15</td>\n",
       "      <td>15</td>\n",
       "      <td>2.08</td>\n",
       "      <td>PK</td>\n",
       "      <td>1659450572</td>\n",
       "    </tr>\n",
       "    <tr>\n",
       "      <th>5</th>\n",
       "      <td>Agüimes</td>\n",
       "      <td>27.9054</td>\n",
       "      <td>-15.4461</td>\n",
       "      <td>83.03</td>\n",
       "      <td>54</td>\n",
       "      <td>20</td>\n",
       "      <td>29.93</td>\n",
       "      <td>ES</td>\n",
       "      <td>1659449997</td>\n",
       "    </tr>\n",
       "  </tbody>\n",
       "</table>\n",
       "</div>"
      ],
      "text/plain": [
       "          City      Lat       Lng  Max Temp  Humidity  Cloudiness  Wind Speed  \\\n",
       "0  East London -33.0153   27.9116     67.14        63           0        4.61   \n",
       "1    Upernavik  72.7868  -56.1549     45.25        80          87       11.54   \n",
       "2      Rikitea -23.1203 -134.9692     72.95        72          83       21.81   \n",
       "4       Kharan  28.5833   65.4167    102.67        15          15        2.08   \n",
       "5      Agüimes  27.9054  -15.4461     83.03        54          20       29.93   \n",
       "\n",
       "  Country        Date  \n",
       "0      ZA  1659450570  \n",
       "1      GL  1659450570  \n",
       "2      PF  1659450571  \n",
       "4      PK  1659450572  \n",
       "5      ES  1659449997  "
      ]
     },
     "execution_count": 16,
     "metadata": {},
     "output_type": "execute_result"
    }
   ],
   "source": [
    "# Make a new DataFrame equal to the city data to drop all humidity outliers by index.\n",
    "# Passing \"inplace=False\" will make a copy of the city_data DataFrame, which we call \"clean_city_data\".\n",
    "\n",
    "del reduced_humidity_df['Unnamed: 0']\n",
    "reduced_humidity_df.head()"
   ]
  },
  {
   "cell_type": "code",
   "execution_count": 17,
   "metadata": {},
   "outputs": [],
   "source": [
    "clean_city_data = reduced_humidity_df"
   ]
  },
  {
   "cell_type": "code",
   "execution_count": 18,
   "metadata": {},
   "outputs": [],
   "source": [
    "clean_city_data.to_csv(\"output_data/clean_city_data.csv\")"
   ]
  },
  {
   "cell_type": "code",
   "execution_count": 19,
   "metadata": {},
   "outputs": [
    {
     "data": {
      "text/plain": [
       "<AxesSubplot:ylabel='Frequency'>"
      ]
     },
     "execution_count": 19,
     "metadata": {},
     "output_type": "execute_result"
    },
    {
     "data": {
      "image/png": "[encoded data removed]",
      "text/plain": [
       "<Figure size 432x288 with 1 Axes>"
      ]
     },
     "metadata": {
      "needs_background": "light"
     },
     "output_type": "display_data"
    }
   ],
   "source": [
    "reduced_humidity_df[\"Humidity\"].plot.hist()"
   ]
  },
  {
   "cell_type": "markdown",
   "metadata": {},
   "source": [
    "Skip this step if there are no cities that have humidity > 100%."
   ]
  },
  {
   "cell_type": "markdown",
   "metadata": {},
   "source": [
    "Humidity(xlabel) and Frequency(ylabel) show that  majority of cities are in 68% ~ 90% humidity range."
   ]
  },
  {
   "cell_type": "code",
   "execution_count": null,
   "metadata": {},
   "outputs": [],
   "source": []
  },
  {
   "cell_type": "code",
   "execution_count": 20,
   "metadata": {},
   "outputs": [
    {
     "data": {
      "text/plain": [
       "<AxesSubplot:>"
      ]
     },
     "execution_count": 20,
     "metadata": {},
     "output_type": "execute_result"
    },
    {
     "data": {
      "image/png": "[encoded data removed]",
      "text/plain": [
       "<Figure size 720x720 with 1 Axes>"
      ]
     },
     "metadata": {
      "needs_background": "light"
     },
     "output_type": "display_data"
    }
   ],
   "source": [
    "reduced_humidity_df[\"Humidity\"].plot.box(figsize=(10,10))"
   ]
  },
  {
   "cell_type": "markdown",
   "metadata": {},
   "source": [
    "The the median of humidity is 72% \n",
    "Values below 19% could be outliers.\n",
    "Values above 123% could be outliers."
   ]
  },
  {
   "cell_type": "code",
   "execution_count": null,
   "metadata": {},
   "outputs": [],
   "source": []
  },
  {
   "cell_type": "code",
   "execution_count": 21,
   "metadata": {},
   "outputs": [
    {
     "data": {
      "text/plain": [
       "count    567.000000\n",
       "mean      68.280423\n",
       "std       20.698168\n",
       "min        7.000000\n",
       "25%       58.000000\n",
       "50%       72.000000\n",
       "75%       84.000000\n",
       "max       99.000000\n",
       "Name: Humidity, dtype: float64"
      ]
     },
     "execution_count": 21,
     "metadata": {},
     "output_type": "execute_result"
    }
   ],
   "source": [
    "reduced_humidity_df[\"Humidity\"].describe()"
   ]
  },
  {
   "cell_type": "code",
   "execution_count": 22,
   "metadata": {},
   "outputs": [
    {
     "data": {
      "text/plain": [
       "0.25    58.0\n",
       "0.50    72.0\n",
       "0.75    84.0\n",
       "Name: Humidity, dtype: float64"
      ]
     },
     "execution_count": 22,
     "metadata": {},
     "output_type": "execute_result"
    }
   ],
   "source": [
    "reduced_humidity_df[\"Humidity\"].quantile([.25,.5,.75])"
   ]
  },
  {
   "cell_type": "code",
   "execution_count": 23,
   "metadata": {},
   "outputs": [
    {
     "name": "stdout",
     "output_type": "stream",
     "text": [
      "58.0 84.0\n",
      "INNER QUARTILE RANGE 26.0\n"
     ]
    }
   ],
   "source": [
    "quartiles = reduced_humidity_df[\"Humidity\"].quantile([.25,.5,.75])\n",
    "lowerq = quartiles[.25]\n",
    "upperq = quartiles[.75]\n",
    "iqr = upperq-lowerq\n",
    "print(lowerq, upperq)\n",
    "print(\"INNER QUARTILE RANGE\", iqr)"
   ]
  },
  {
   "cell_type": "code",
   "execution_count": 24,
   "metadata": {},
   "outputs": [
    {
     "name": "stdout",
     "output_type": "stream",
     "text": [
      "The lower quartile of reduced_humidity_df.head() is: 58.0\n",
      "The upper quartile of reduced_humidity_df.head() is: 84.0\n",
      "The interquartile range of reduced_humidity_df.head() is: 26.0\n",
      "The the median of reduced_humidity_df.head() is: 72.0 \n",
      "Values below 19.0 could be outliers.\n",
      "Values above 123.0 could be outliers.\n"
     ]
    }
   ],
   "source": [
    "quartiles = reduced_humidity_df[\"Humidity\"].quantile([.25,.5,.75])\n",
    "lowerq = quartiles[.25]\n",
    "upperq = quartiles[.75]\n",
    "iqr = upperq-lowerq\n",
    "\n",
    "print(f\"The lower quartile of reduced_humidity_df.head() is: {lowerq}\")\n",
    "print(f\"The upper quartile of reduced_humidity_df.head() is: {upperq}\")\n",
    "print(f\"The interquartile range of reduced_humidity_df.head() is: {iqr}\")\n",
    "print(f\"The the median of reduced_humidity_df.head() is: {quartiles[.5]} \")\n",
    "\n",
    "lower_bound = lowerq - (1.5*iqr)\n",
    "upper_bound = upperq + (1.5*iqr)\n",
    "print(f\"Values below {lower_bound} could be outliers.\")\n",
    "print(f\"Values above {upper_bound} could be outliers.\")"
   ]
  },
  {
   "cell_type": "code",
   "execution_count": 25,
   "metadata": {},
   "outputs": [
    {
     "data": {
      "text/html": [
       "<div>\n",
       "<style scoped>\n",
       "    .dataframe tbody tr th:only-of-type {\n",
       "        vertical-align: middle;\n",
       "    }\n",
       "\n",
       "    .dataframe tbody tr th {\n",
       "        vertical-align: top;\n",
       "    }\n",
       "\n",
       "    .dataframe thead th {\n",
       "        text-align: right;\n",
       "    }\n",
       "</style>\n",
       "<table border=\"1\" class=\"dataframe\">\n",
       "  <thead>\n",
       "    <tr style=\"text-align: right;\">\n",
       "      <th></th>\n",
       "      <th>City</th>\n",
       "      <th>Lat</th>\n",
       "      <th>Lng</th>\n",
       "      <th>Max Temp</th>\n",
       "      <th>Humidity</th>\n",
       "      <th>Cloudiness</th>\n",
       "      <th>Wind Speed</th>\n",
       "      <th>Country</th>\n",
       "      <th>Date</th>\n",
       "    </tr>\n",
       "  </thead>\n",
       "  <tbody>\n",
       "    <tr>\n",
       "      <th>4</th>\n",
       "      <td>Kharan</td>\n",
       "      <td>28.5833</td>\n",
       "      <td>65.4167</td>\n",
       "      <td>102.67</td>\n",
       "      <td>15</td>\n",
       "      <td>15</td>\n",
       "      <td>2.08</td>\n",
       "      <td>PK</td>\n",
       "      <td>1659450572</td>\n",
       "    </tr>\n",
       "    <tr>\n",
       "      <th>94</th>\n",
       "      <td>Fes</td>\n",
       "      <td>34.0372</td>\n",
       "      <td>-4.9998</td>\n",
       "      <td>109.65</td>\n",
       "      <td>7</td>\n",
       "      <td>0</td>\n",
       "      <td>5.75</td>\n",
       "      <td>MA</td>\n",
       "      <td>1659450602</td>\n",
       "    </tr>\n",
       "    <tr>\n",
       "      <th>117</th>\n",
       "      <td>Sabzawār</td>\n",
       "      <td>36.2126</td>\n",
       "      <td>57.6819</td>\n",
       "      <td>92.48</td>\n",
       "      <td>16</td>\n",
       "      <td>20</td>\n",
       "      <td>0.00</td>\n",
       "      <td>IR</td>\n",
       "      <td>1659450617</td>\n",
       "    </tr>\n",
       "    <tr>\n",
       "      <th>137</th>\n",
       "      <td>Zambezi</td>\n",
       "      <td>-13.5432</td>\n",
       "      <td>23.1047</td>\n",
       "      <td>87.62</td>\n",
       "      <td>16</td>\n",
       "      <td>50</td>\n",
       "      <td>5.53</td>\n",
       "      <td>ZM</td>\n",
       "      <td>1659450626</td>\n",
       "    </tr>\n",
       "    <tr>\n",
       "      <th>192</th>\n",
       "      <td>Sakakah</td>\n",
       "      <td>29.9697</td>\n",
       "      <td>40.2064</td>\n",
       "      <td>112.57</td>\n",
       "      <td>8</td>\n",
       "      <td>11</td>\n",
       "      <td>1.23</td>\n",
       "      <td>SA</td>\n",
       "      <td>1659450647</td>\n",
       "    </tr>\n",
       "    <tr>\n",
       "      <th>282</th>\n",
       "      <td>Jalu</td>\n",
       "      <td>29.0331</td>\n",
       "      <td>21.5482</td>\n",
       "      <td>98.19</td>\n",
       "      <td>18</td>\n",
       "      <td>0</td>\n",
       "      <td>13.24</td>\n",
       "      <td>LY</td>\n",
       "      <td>1659450691</td>\n",
       "    </tr>\n",
       "    <tr>\n",
       "      <th>283</th>\n",
       "      <td>Taoudenni</td>\n",
       "      <td>22.6783</td>\n",
       "      <td>-3.9836</td>\n",
       "      <td>115.14</td>\n",
       "      <td>7</td>\n",
       "      <td>5</td>\n",
       "      <td>7.07</td>\n",
       "      <td>ML</td>\n",
       "      <td>1659450147</td>\n",
       "    </tr>\n",
       "    <tr>\n",
       "      <th>376</th>\n",
       "      <td>Aswān</td>\n",
       "      <td>24.0934</td>\n",
       "      <td>32.9070</td>\n",
       "      <td>105.06</td>\n",
       "      <td>12</td>\n",
       "      <td>83</td>\n",
       "      <td>14.47</td>\n",
       "      <td>EG</td>\n",
       "      <td>1659450729</td>\n",
       "    </tr>\n",
       "    <tr>\n",
       "      <th>456</th>\n",
       "      <td>Urmia</td>\n",
       "      <td>37.5527</td>\n",
       "      <td>45.0761</td>\n",
       "      <td>94.55</td>\n",
       "      <td>17</td>\n",
       "      <td>40</td>\n",
       "      <td>11.50</td>\n",
       "      <td>IR</td>\n",
       "      <td>1659450766</td>\n",
       "    </tr>\n",
       "    <tr>\n",
       "      <th>518</th>\n",
       "      <td>Susa</td>\n",
       "      <td>32.1942</td>\n",
       "      <td>48.2436</td>\n",
       "      <td>114.44</td>\n",
       "      <td>18</td>\n",
       "      <td>16</td>\n",
       "      <td>10.98</td>\n",
       "      <td>IR</td>\n",
       "      <td>1659450798</td>\n",
       "    </tr>\n",
       "    <tr>\n",
       "      <th>521</th>\n",
       "      <td>Ardakān</td>\n",
       "      <td>32.3100</td>\n",
       "      <td>54.0175</td>\n",
       "      <td>97.95</td>\n",
       "      <td>13</td>\n",
       "      <td>1</td>\n",
       "      <td>12.08</td>\n",
       "      <td>IR</td>\n",
       "      <td>1659450800</td>\n",
       "    </tr>\n",
       "  </tbody>\n",
       "</table>\n",
       "</div>"
      ],
      "text/plain": [
       "          City      Lat      Lng  Max Temp  Humidity  Cloudiness  Wind Speed  \\\n",
       "4       Kharan  28.5833  65.4167    102.67        15          15        2.08   \n",
       "94         Fes  34.0372  -4.9998    109.65         7           0        5.75   \n",
       "117   Sabzawār  36.2126  57.6819     92.48        16          20        0.00   \n",
       "137    Zambezi -13.5432  23.1047     87.62        16          50        5.53   \n",
       "192    Sakakah  29.9697  40.2064    112.57         8          11        1.23   \n",
       "282       Jalu  29.0331  21.5482     98.19        18           0       13.24   \n",
       "283  Taoudenni  22.6783  -3.9836    115.14         7           5        7.07   \n",
       "376      Aswān  24.0934  32.9070    105.06        12          83       14.47   \n",
       "456      Urmia  37.5527  45.0761     94.55        17          40       11.50   \n",
       "518       Susa  32.1942  48.2436    114.44        18          16       10.98   \n",
       "521    Ardakān  32.3100  54.0175     97.95        13           1       12.08   \n",
       "\n",
       "    Country        Date  \n",
       "4        PK  1659450572  \n",
       "94       MA  1659450602  \n",
       "117      IR  1659450617  \n",
       "137      ZM  1659450626  \n",
       "192      SA  1659450647  \n",
       "282      LY  1659450691  \n",
       "283      ML  1659450147  \n",
       "376      EG  1659450729  \n",
       "456      IR  1659450766  \n",
       "518      IR  1659450798  \n",
       "521      IR  1659450800  "
      ]
     },
     "execution_count": 25,
     "metadata": {},
     "output_type": "execute_result"
    }
   ],
   "source": [
    "reduced_humidity_df.loc[reduced_humidity_df[\"Humidity\"] < lower_bound]"
   ]
  },
  {
   "cell_type": "markdown",
   "metadata": {},
   "source": [
    "## Plotting the Data\n",
    "* Use proper labeling of the plots using plot titles (including date of analysis) and axes labels.\n",
    "* Save the plotted figures as .pngs."
   ]
  },
  {
   "cell_type": "markdown",
   "metadata": {},
   "source": [
    "## Latitude vs. Temperature Plot"
   ]
  },
  {
   "cell_type": "code",
   "execution_count": 26,
   "metadata": {},
   "outputs": [
    {
     "data": {
      "image/png": "[encoded data removed]",
      "text/plain": [
       "<Figure size 360x360 with 1 Axes>"
      ]
     },
     "metadata": {
      "needs_background": "light"
     },
     "output_type": "display_data"
    }
   ],
   "source": [
    "clean_city_data.plot(kind=\"scatter\", x=\"Lat\", y=\"Max Temp\", grid=True, figsize=(5,5),\n",
    "              title=\"Latitute Vs. Max Temperature\")\n",
    "plt.show()"
   ]
  },
  {
   "cell_type": "code",
   "execution_count": 44,
   "metadata": {},
   "outputs": [
    {
     "data": {
      "text/plain": [
       "<Figure size 432x288 with 0 Axes>"
      ]
     },
     "metadata": {},
     "output_type": "display_data"
    }
   ],
   "source": [
    "plt.savefig(\"Image/LatituteMaxTemp.png\")"
   ]
  },
  {
   "cell_type": "markdown",
   "metadata": {},
   "source": [
    "Latitute ranges(-60 to -20 and 60 to 80) have lower max temperatur( mid 30s to 70s)\n",
    "Latutute ranges(-20 to 60 )have hier max temperature (70 to 110) which are shown as high density of cluster."
   ]
  },
  {
   "cell_type": "markdown",
   "metadata": {},
   "source": [
    "## Latitude vs. Cloudiness Plot"
   ]
  },
  {
   "cell_type": "code",
   "execution_count": 27,
   "metadata": {},
   "outputs": [
    {
     "data": {
      "image/png": "[encoded data removed]",
      "text/plain": [
       "<Figure size 360x360 with 1 Axes>"
      ]
     },
     "metadata": {
      "needs_background": "light"
     },
     "output_type": "display_data"
    }
   ],
   "source": [
    "clean_city_data.plot(kind=\"scatter\", x=\"Lat\", y=\"Cloudiness\", grid=True, figsize=(5,5),\n",
    "              title=\"Latitute Vs. Cloudiness\")\n",
    "plt.show()"
   ]
  },
  {
   "cell_type": "code",
   "execution_count": 45,
   "metadata": {},
   "outputs": [
    {
     "data": {
      "text/plain": [
       "<Figure size 432x288 with 0 Axes>"
      ]
     },
     "metadata": {},
     "output_type": "display_data"
    }
   ],
   "source": [
    "plt.savefig(\"Image/LatituteCloudiness.png\")"
   ]
  },
  {
   "cell_type": "markdown",
   "metadata": {},
   "source": [
    "Cloudness is scattered all over the Latitute ranges(-50 to 70)"
   ]
  },
  {
   "cell_type": "markdown",
   "metadata": {},
   "source": [
    "## Latitude vs. Humidity Plot"
   ]
  },
  {
   "cell_type": "code",
   "execution_count": 46,
   "metadata": {},
   "outputs": [
    {
     "data": {
      "image/png": "[encoded data removed]",
      "text/plain": [
       "<Figure size 360x360 with 1 Axes>"
      ]
     },
     "metadata": {
      "needs_background": "light"
     },
     "output_type": "display_data"
    }
   ],
   "source": [
    "clean_city_data.plot(kind=\"scatter\", x=\"Lat\", y=\"Humidity\", grid=True, figsize=(5,5),\n",
    "              title=\"Latitute Vs. Humidity\")\n",
    "plt.show()"
   ]
  },
  {
   "cell_type": "code",
   "execution_count": 47,
   "metadata": {},
   "outputs": [
    {
     "data": {
      "text/plain": [
       "<Figure size 432x288 with 0 Axes>"
      ]
     },
     "metadata": {},
     "output_type": "display_data"
    }
   ],
   "source": [
    "plt.savefig(\"Image/LatituteHumidity.png\")"
   ]
  },
  {
   "cell_type": "markdown",
   "metadata": {},
   "source": [
    "Latitute ranges(-40 to 70) have high Humidity which is shown as high density of cluster(60 to 100) "
   ]
  },
  {
   "cell_type": "markdown",
   "metadata": {},
   "source": [
    "## Latitude vs. Wind Speed Plot"
   ]
  },
  {
   "cell_type": "code",
   "execution_count": 29,
   "metadata": {},
   "outputs": [
    {
     "data": {
      "image/png": "[encoded data removed]",
      "text/plain": [
       "<Figure size 360x360 with 1 Axes>"
      ]
     },
     "metadata": {
      "needs_background": "light"
     },
     "output_type": "display_data"
    }
   ],
   "source": [
    "clean_city_data.plot(kind=\"scatter\", x=\"Lat\", y=\"Wind Speed\", grid=True, figsize=(5,5),\n",
    "              title=\"Latitute Vs. Wind Speed\")\n",
    "plt.show()"
   ]
  },
  {
   "cell_type": "code",
   "execution_count": 48,
   "metadata": {},
   "outputs": [
    {
     "data": {
      "text/plain": [
       "<Figure size 432x288 with 0 Axes>"
      ]
     },
     "metadata": {},
     "output_type": "display_data"
    }
   ],
   "source": [
    "plt.savefig(\"Image/LatituteWindSpeed.png\")"
   ]
  },
  {
   "cell_type": "markdown",
   "metadata": {},
   "source": [
    "Overall, Latitute ranges(-40 to 70) have high lower Wind Speed which is shown as high density of cluster(0-15) "
   ]
  },
  {
   "cell_type": "markdown",
   "metadata": {},
   "source": [
    "## Linear Regression"
   ]
  },
  {
   "cell_type": "markdown",
   "metadata": {},
   "source": [
    "####  Northern Hemisphere - Max Temp vs. Latitude Linear Regression"
   ]
  },
  {
   "cell_type": "code",
   "execution_count": 30,
   "metadata": {},
   "outputs": [
    {
     "data": {
      "text/html": [
       "<div>\n",
       "<style scoped>\n",
       "    .dataframe tbody tr th:only-of-type {\n",
       "        vertical-align: middle;\n",
       "    }\n",
       "\n",
       "    .dataframe tbody tr th {\n",
       "        vertical-align: top;\n",
       "    }\n",
       "\n",
       "    .dataframe thead th {\n",
       "        text-align: right;\n",
       "    }\n",
       "</style>\n",
       "<table border=\"1\" class=\"dataframe\">\n",
       "  <thead>\n",
       "    <tr style=\"text-align: right;\">\n",
       "      <th></th>\n",
       "      <th>City</th>\n",
       "      <th>Lat</th>\n",
       "      <th>Lng</th>\n",
       "      <th>Max Temp</th>\n",
       "      <th>Humidity</th>\n",
       "      <th>Cloudiness</th>\n",
       "      <th>Wind Speed</th>\n",
       "      <th>Country</th>\n",
       "      <th>Date</th>\n",
       "    </tr>\n",
       "  </thead>\n",
       "  <tbody>\n",
       "    <tr>\n",
       "      <th>1</th>\n",
       "      <td>Upernavik</td>\n",
       "      <td>72.7868</td>\n",
       "      <td>-56.1549</td>\n",
       "      <td>45.25</td>\n",
       "      <td>80</td>\n",
       "      <td>87</td>\n",
       "      <td>11.54</td>\n",
       "      <td>GL</td>\n",
       "      <td>1659450570</td>\n",
       "    </tr>\n",
       "    <tr>\n",
       "      <th>4</th>\n",
       "      <td>Kharan</td>\n",
       "      <td>28.5833</td>\n",
       "      <td>65.4167</td>\n",
       "      <td>102.67</td>\n",
       "      <td>15</td>\n",
       "      <td>15</td>\n",
       "      <td>2.08</td>\n",
       "      <td>PK</td>\n",
       "      <td>1659450572</td>\n",
       "    </tr>\n",
       "    <tr>\n",
       "      <th>5</th>\n",
       "      <td>Agüimes</td>\n",
       "      <td>27.9054</td>\n",
       "      <td>-15.4461</td>\n",
       "      <td>83.03</td>\n",
       "      <td>54</td>\n",
       "      <td>20</td>\n",
       "      <td>29.93</td>\n",
       "      <td>ES</td>\n",
       "      <td>1659449997</td>\n",
       "    </tr>\n",
       "    <tr>\n",
       "      <th>7</th>\n",
       "      <td>Baraboo</td>\n",
       "      <td>43.4711</td>\n",
       "      <td>-89.7443</td>\n",
       "      <td>73.54</td>\n",
       "      <td>81</td>\n",
       "      <td>0</td>\n",
       "      <td>4.61</td>\n",
       "      <td>US</td>\n",
       "      <td>1659450544</td>\n",
       "    </tr>\n",
       "    <tr>\n",
       "      <th>8</th>\n",
       "      <td>Węgrów</td>\n",
       "      <td>52.3995</td>\n",
       "      <td>22.0163</td>\n",
       "      <td>77.92</td>\n",
       "      <td>44</td>\n",
       "      <td>18</td>\n",
       "      <td>8.25</td>\n",
       "      <td>PL</td>\n",
       "      <td>1659450573</td>\n",
       "    </tr>\n",
       "  </tbody>\n",
       "</table>\n",
       "</div>"
      ],
      "text/plain": [
       "        City      Lat      Lng  Max Temp  Humidity  Cloudiness  Wind Speed  \\\n",
       "1  Upernavik  72.7868 -56.1549     45.25        80          87       11.54   \n",
       "4     Kharan  28.5833  65.4167    102.67        15          15        2.08   \n",
       "5    Agüimes  27.9054 -15.4461     83.03        54          20       29.93   \n",
       "7    Baraboo  43.4711 -89.7443     73.54        81           0        4.61   \n",
       "8     Węgrów  52.3995  22.0163     77.92        44          18        8.25   \n",
       "\n",
       "  Country        Date  \n",
       "1      GL  1659450570  \n",
       "4      PK  1659450572  \n",
       "5      ES  1659449997  \n",
       "7      US  1659450544  \n",
       "8      PL  1659450573  "
      ]
     },
     "execution_count": 30,
     "metadata": {},
     "output_type": "execute_result"
    }
   ],
   "source": [
    "noth_hamisphere = clean_city_data.loc[(clean_city_data[\"Lat\"] >= 0)]\n",
    "noth_hamisphere.head()"
   ]
  },
  {
   "cell_type": "code",
   "execution_count": 31,
   "metadata": {},
   "outputs": [
    {
     "data": {
      "image/png": "[encoded data removed]",
      "text/plain": [
       "<Figure size 432x288 with 1 Axes>"
      ]
     },
     "metadata": {
      "needs_background": "light"
     },
     "output_type": "display_data"
    }
   ],
   "source": [
    "x_values = noth_hamisphere['Lat']\n",
    "y_values = noth_hamisphere['Max Temp']\n",
    "plt.scatter(x_values,y_values)\n",
    "plt.xlabel('Cities')\n",
    "plt.ylabel('Max Temperature')\n",
    "plt.show()"
   ]
  },
  {
   "cell_type": "code",
   "execution_count": 50,
   "metadata": {},
   "outputs": [
    {
     "data": {
      "text/plain": [
       "<Figure size 432x288 with 0 Axes>"
      ]
     },
     "metadata": {},
     "output_type": "display_data"
    }
   ],
   "source": [
    "plt.savefig(\"Image/NorthernHemisphereMaxTempLat.png\")"
   ]
  },
  {
   "cell_type": "markdown",
   "metadata": {},
   "source": [
    "In Northern Hemisohere, Latitute ranges(0 to mid 40s) have 70 to 90 Max Temperature and \n",
    "Latitute ranges(from mid 40s to 70) have lower max temperature 40 to 70 "
   ]
  },
  {
   "cell_type": "code",
   "execution_count": 32,
   "metadata": {},
   "outputs": [
    {
     "data": {
      "image/png": "[encoded data removed]",
      "text/plain": [
       "<Figure size 432x288 with 1 Axes>"
      ]
     },
     "metadata": {
      "needs_background": "light"
     },
     "output_type": "display_data"
    }
   ],
   "source": [
    "x_values = noth_hamisphere['Lat']\n",
    "y_values = noth_hamisphere['Max Temp']\n",
    "(slope, intercept, rvalue, pvalue, stderr) = linregress(x_values, y_values)\n",
    "regress_values = x_values * slope + intercept\n",
    "line_eq = \"y = \" + str(round(slope,2)) + \"x + \" + str(round(intercept,2))\n",
    "plt.scatter(x_values,y_values)\n",
    "plt.plot(x_values,regress_values,\"r-\")\n",
    "plt.annotate(line_eq,(5.8,0.8),fontsize=15,color=\"red\")\n",
    "plt.xlabel('Cities')\n",
    "plt.ylabel('Max Temperature')\n",
    "plt.title(\"Max Temp vs. Latitude\")\n",
    "plt.show()"
   ]
  },
  {
   "cell_type": "code",
   "execution_count": 51,
   "metadata": {},
   "outputs": [
    {
     "data": {
      "text/plain": [
       "<Figure size 432x288 with 0 Axes>"
      ]
     },
     "metadata": {},
     "output_type": "display_data"
    }
   ],
   "source": [
    "plt.savefig(\"Image/NorthernHemisphereMaxTempLatLinearRegression.png\")"
   ]
  },
  {
   "cell_type": "markdown",
   "metadata": {},
   "source": [
    "In Northern Hemisohere, as red line shows, higher Latitute cities have lower max temperature"
   ]
  },
  {
   "cell_type": "markdown",
   "metadata": {},
   "source": [
    "####  Southern Hemisphere - Max Temp vs. Latitude Linear Regression"
   ]
  },
  {
   "cell_type": "code",
   "execution_count": 33,
   "metadata": {},
   "outputs": [
    {
     "data": {
      "text/html": [
       "<div>\n",
       "<style scoped>\n",
       "    .dataframe tbody tr th:only-of-type {\n",
       "        vertical-align: middle;\n",
       "    }\n",
       "\n",
       "    .dataframe tbody tr th {\n",
       "        vertical-align: top;\n",
       "    }\n",
       "\n",
       "    .dataframe thead th {\n",
       "        text-align: right;\n",
       "    }\n",
       "</style>\n",
       "<table border=\"1\" class=\"dataframe\">\n",
       "  <thead>\n",
       "    <tr style=\"text-align: right;\">\n",
       "      <th></th>\n",
       "      <th>City</th>\n",
       "      <th>Lat</th>\n",
       "      <th>Lng</th>\n",
       "      <th>Max Temp</th>\n",
       "      <th>Humidity</th>\n",
       "      <th>Cloudiness</th>\n",
       "      <th>Wind Speed</th>\n",
       "      <th>Country</th>\n",
       "      <th>Date</th>\n",
       "    </tr>\n",
       "  </thead>\n",
       "  <tbody>\n",
       "    <tr>\n",
       "      <th>0</th>\n",
       "      <td>East London</td>\n",
       "      <td>-33.0153</td>\n",
       "      <td>27.9116</td>\n",
       "      <td>67.14</td>\n",
       "      <td>63</td>\n",
       "      <td>0</td>\n",
       "      <td>4.61</td>\n",
       "      <td>ZA</td>\n",
       "      <td>1659450570</td>\n",
       "    </tr>\n",
       "    <tr>\n",
       "      <th>2</th>\n",
       "      <td>Rikitea</td>\n",
       "      <td>-23.1203</td>\n",
       "      <td>-134.9692</td>\n",
       "      <td>72.95</td>\n",
       "      <td>72</td>\n",
       "      <td>83</td>\n",
       "      <td>21.81</td>\n",
       "      <td>PF</td>\n",
       "      <td>1659450571</td>\n",
       "    </tr>\n",
       "    <tr>\n",
       "      <th>6</th>\n",
       "      <td>Hithadhoo</td>\n",
       "      <td>-0.6000</td>\n",
       "      <td>73.0833</td>\n",
       "      <td>81.30</td>\n",
       "      <td>72</td>\n",
       "      <td>23</td>\n",
       "      <td>14.54</td>\n",
       "      <td>MV</td>\n",
       "      <td>1659450572</td>\n",
       "    </tr>\n",
       "    <tr>\n",
       "      <th>10</th>\n",
       "      <td>Bluff</td>\n",
       "      <td>-46.6000</td>\n",
       "      <td>168.3333</td>\n",
       "      <td>44.80</td>\n",
       "      <td>78</td>\n",
       "      <td>69</td>\n",
       "      <td>24.79</td>\n",
       "      <td>NZ</td>\n",
       "      <td>1659450573</td>\n",
       "    </tr>\n",
       "    <tr>\n",
       "      <th>11</th>\n",
       "      <td>Bredasdorp</td>\n",
       "      <td>-34.5322</td>\n",
       "      <td>20.0403</td>\n",
       "      <td>63.82</td>\n",
       "      <td>51</td>\n",
       "      <td>10</td>\n",
       "      <td>6.31</td>\n",
       "      <td>ZA</td>\n",
       "      <td>1659450574</td>\n",
       "    </tr>\n",
       "  </tbody>\n",
       "</table>\n",
       "</div>"
      ],
      "text/plain": [
       "           City      Lat       Lng  Max Temp  Humidity  Cloudiness  \\\n",
       "0   East London -33.0153   27.9116     67.14        63           0   \n",
       "2       Rikitea -23.1203 -134.9692     72.95        72          83   \n",
       "6     Hithadhoo  -0.6000   73.0833     81.30        72          23   \n",
       "10        Bluff -46.6000  168.3333     44.80        78          69   \n",
       "11   Bredasdorp -34.5322   20.0403     63.82        51          10   \n",
       "\n",
       "    Wind Speed Country        Date  \n",
       "0         4.61      ZA  1659450570  \n",
       "2        21.81      PF  1659450571  \n",
       "6        14.54      MV  1659450572  \n",
       "10       24.79      NZ  1659450573  \n",
       "11        6.31      ZA  1659450574  "
      ]
     },
     "execution_count": 33,
     "metadata": {},
     "output_type": "execute_result"
    }
   ],
   "source": [
    "south_hamisphere = clean_city_data.loc[(clean_city_data[\"Lat\"] < 0)]\n",
    "south_hamisphere.head()"
   ]
  },
  {
   "cell_type": "code",
   "execution_count": 34,
   "metadata": {},
   "outputs": [
    {
     "data": {
      "image/png": "[encoded data removed]",
      "text/plain": [
       "<Figure size 432x288 with 1 Axes>"
      ]
     },
     "metadata": {
      "needs_background": "light"
     },
     "output_type": "display_data"
    }
   ],
   "source": [
    "x_values = south_hamisphere['Lat']\n",
    "y_values = south_hamisphere['Max Temp']\n",
    "plt.scatter(x_values,y_values)\n",
    "plt.xlabel('Cities')\n",
    "plt.ylabel('Max Temperature')\n",
    "plt.show()"
   ]
  },
  {
   "cell_type": "code",
   "execution_count": 52,
   "metadata": {},
   "outputs": [
    {
     "data": {
      "text/plain": [
       "<Figure size 432x288 with 0 Axes>"
      ]
     },
     "metadata": {},
     "output_type": "display_data"
    }
   ],
   "source": [
    "plt.savefig(\"Image/SouthernHemisphereMaxTempLat.png\")"
   ]
  },
  {
   "cell_type": "markdown",
   "metadata": {},
   "source": [
    "In Southern Hemisohere, Latitute ranges(mid -40s to mid -20s) have lower Max Temperature 40 to 70  and \n",
    "Latitute ranges(from mid -20s to 0) have higher max temperature 70 to 90 "
   ]
  },
  {
   "cell_type": "code",
   "execution_count": 35,
   "metadata": {},
   "outputs": [
    {
     "data": {
      "image/png": "[encoded data removed]",
      "text/plain": [
       "<Figure size 432x288 with 1 Axes>"
      ]
     },
     "metadata": {
      "needs_background": "light"
     },
     "output_type": "display_data"
    }
   ],
   "source": [
    "x_values = south_hamisphere['Lat']\n",
    "y_values = south_hamisphere['Max Temp']\n",
    "(slope, intercept, rvalue, pvalue, stderr) = linregress(x_values, y_values)\n",
    "regress_values = x_values * slope + intercept\n",
    "line_eq = \"y = \" + str(round(slope,2)) + \"x + \" + str(round(intercept,2))\n",
    "plt.scatter(x_values,y_values)\n",
    "plt.plot(x_values,regress_values,\"r-\")\n",
    "plt.annotate(line_eq,(5.8,0.8),fontsize=15,color=\"red\")\n",
    "plt.xlabel('Cities')\n",
    "plt.ylabel('Max Temperature')\n",
    "plt.show()"
   ]
  },
  {
   "cell_type": "code",
   "execution_count": 53,
   "metadata": {},
   "outputs": [
    {
     "data": {
      "text/plain": [
       "<Figure size 432x288 with 0 Axes>"
      ]
     },
     "metadata": {},
     "output_type": "display_data"
    }
   ],
   "source": [
    "plt.savefig(\"Image/SouthernHemisphereMaxTempLatLinearRegression.png\")"
   ]
  },
  {
   "cell_type": "code",
   "execution_count": null,
   "metadata": {},
   "outputs": [],
   "source": [
    "In Southern Hemisohere, as red line shows, cities further from  Latitute 0 have lower max temperature."
   ]
  },
  {
   "cell_type": "markdown",
   "metadata": {},
   "source": [
    "####  Northern Hemisphere - Humidity (%) vs. Latitude Linear Regression"
   ]
  },
  {
   "cell_type": "code",
   "execution_count": 36,
   "metadata": {},
   "outputs": [
    {
     "data": {
      "image/png": "[encoded data removed]",
      "text/plain": [
       "<Figure size 432x288 with 1 Axes>"
      ]
     },
     "metadata": {
      "needs_background": "light"
     },
     "output_type": "display_data"
    }
   ],
   "source": [
    "x_values = noth_hamisphere['Lat']\n",
    "y_values = noth_hamisphere['Humidity']\n",
    "(slope, intercept, rvalue, pvalue, stderr) = linregress(x_values, y_values)\n",
    "regress_values = x_values * slope + intercept\n",
    "line_eq = \"y = \" + str(round(slope,2)) + \"x + \" + str(round(intercept,2))\n",
    "plt.scatter(x_values,y_values)\n",
    "plt.plot(x_values,regress_values,\"r-\")\n",
    "plt.annotate(line_eq,(5.8,0.8),fontsize=15,color=\"red\")\n",
    "plt.xlabel('Cities')\n",
    "plt.ylabel('Humidity (%)')\n",
    "plt.title(\"Humidity (%) vs. Latitude\")\n",
    "plt.show()"
   ]
  },
  {
   "cell_type": "code",
   "execution_count": 54,
   "metadata": {},
   "outputs": [
    {
     "data": {
      "text/plain": [
       "<Figure size 432x288 with 0 Axes>"
      ]
     },
     "metadata": {},
     "output_type": "display_data"
    }
   ],
   "source": [
    "plt.savefig(\"Image/NorthernHemisphereHumidityLatLinearRegression.png\")"
   ]
  },
  {
   "cell_type": "markdown",
   "metadata": {},
   "source": [
    "In Northern Hemisohere, as the red line shows, humidity ranges are 60 to 100 "
   ]
  },
  {
   "cell_type": "markdown",
   "metadata": {},
   "source": [
    "####  Southern Hemisphere - Humidity (%) vs. Latitude Linear Regression"
   ]
  },
  {
   "cell_type": "code",
   "execution_count": 37,
   "metadata": {},
   "outputs": [
    {
     "data": {
      "image/png": "[encoded data removed]",
      "text/plain": [
       "<Figure size 432x288 with 1 Axes>"
      ]
     },
     "metadata": {
      "needs_background": "light"
     },
     "output_type": "display_data"
    }
   ],
   "source": [
    "x_values = south_hamisphere['Lat']\n",
    "y_values = south_hamisphere['Humidity']\n",
    "(slope, intercept, rvalue, pvalue, stderr) = linregress(x_values, y_values)\n",
    "regress_values = x_values * slope + intercept\n",
    "line_eq = \"y = \" + str(round(slope,2)) + \"x + \" + str(round(intercept,2))\n",
    "plt.scatter(x_values,y_values)\n",
    "plt.plot(x_values,regress_values,\"r-\")\n",
    "plt.annotate(line_eq,(5.8,0.8),fontsize=15,color=\"red\")\n",
    "plt.xlabel('Cities')\n",
    "plt.ylabel('Humidity (%)')\n",
    "plt.show()"
   ]
  },
  {
   "cell_type": "code",
   "execution_count": 55,
   "metadata": {},
   "outputs": [
    {
     "data": {
      "text/plain": [
       "<Figure size 432x288 with 0 Axes>"
      ]
     },
     "metadata": {},
     "output_type": "display_data"
    }
   ],
   "source": [
    "plt.savefig(\"Image/SouthernHemisphereHumidityLatLinearRegression.png\")"
   ]
  },
  {
   "cell_type": "markdown",
   "metadata": {},
   "source": [
    "In Southern Hemisohere, as red line shows, humidity ranges are 60 to 70 and \n",
    "cities closer to Latitute 0 have the lower humidity"
   ]
  },
  {
   "cell_type": "markdown",
   "metadata": {},
   "source": [
    "####  Northern Hemisphere - Cloudiness (%) vs. Latitude Linear Regression"
   ]
  },
  {
   "cell_type": "code",
   "execution_count": 38,
   "metadata": {},
   "outputs": [
    {
     "data": {
      "image/png": "[encoded data removed]",
      "text/plain": [
       "<Figure size 432x288 with 1 Axes>"
      ]
     },
     "metadata": {
      "needs_background": "light"
     },
     "output_type": "display_data"
    }
   ],
   "source": [
    "x_values = noth_hamisphere['Lat']\n",
    "y_values = noth_hamisphere['Cloudiness']\n",
    "(slope, intercept, rvalue, pvalue, stderr) = linregress(x_values, y_values)\n",
    "regress_values = x_values * slope + intercept\n",
    "line_eq = \"y = \" + str(round(slope,2)) + \"x + \" + str(round(intercept,2))\n",
    "plt.scatter(x_values,y_values)\n",
    "plt.plot(x_values,regress_values,\"r-\")\n",
    "plt.annotate(line_eq,(5.8,0.8),fontsize=15,color=\"red\")\n",
    "plt.xlabel('Cities')\n",
    "plt.ylabel('Humidity (%)')\n",
    "plt.title(\"Cloudiness (%) vs. Latitude\")\n",
    "plt.show()"
   ]
  },
  {
   "cell_type": "code",
   "execution_count": 56,
   "metadata": {},
   "outputs": [
    {
     "data": {
      "text/plain": [
       "<Figure size 432x288 with 0 Axes>"
      ]
     },
     "metadata": {},
     "output_type": "display_data"
    }
   ],
   "source": [
    "plt.savefig(\"Image/NorthernHemisphereCloudinessLatLinearRegression.png\")"
   ]
  },
  {
   "cell_type": "markdown",
   "metadata": {},
   "source": [
    "In Northern Hemisohere, as red line shows, avarage humidity is mid-late 50s through out Latitute ranges(0 to 80)"
   ]
  },
  {
   "cell_type": "markdown",
   "metadata": {},
   "source": [
    "####  Southern Hemisphere - Cloudiness (%) vs. Latitude Linear Regression"
   ]
  },
  {
   "cell_type": "code",
   "execution_count": 39,
   "metadata": {},
   "outputs": [
    {
     "data": {
      "image/png": "[encoded data removed]",
      "text/plain": [
       "<Figure size 432x288 with 1 Axes>"
      ]
     },
     "metadata": {
      "needs_background": "light"
     },
     "output_type": "display_data"
    }
   ],
   "source": [
    "x_values = south_hamisphere['Lat']\n",
    "y_values = south_hamisphere['Cloudiness']\n",
    "(slope, intercept, rvalue, pvalue, stderr) = linregress(x_values, y_values)\n",
    "regress_values = x_values * slope + intercept\n",
    "line_eq = \"y = \" + str(round(slope,2)) + \"x + \" + str(round(intercept,2))\n",
    "plt.scatter(x_values,y_values)\n",
    "plt.plot(x_values,regress_values,\"r-\")\n",
    "plt.annotate(line_eq,(5.8,0.8),fontsize=15,color=\"red\")\n",
    "plt.xlabel('Cities')\n",
    "plt.ylabel('Cloudiness (%)')\n",
    "plt.show()"
   ]
  },
  {
   "cell_type": "code",
   "execution_count": 57,
   "metadata": {},
   "outputs": [
    {
     "data": {
      "text/plain": [
       "<Figure size 432x288 with 0 Axes>"
      ]
     },
     "metadata": {},
     "output_type": "display_data"
    }
   ],
   "source": [
    "plt.savefig(\"Image/SouthernHemisphereCloudinessLatLinearRegression.png\")"
   ]
  },
  {
   "cell_type": "markdown",
   "metadata": {},
   "source": [
    "In Southern Hemisohere, as red line shows, average humidity is slightly higher cities closer to Latitute 0 "
   ]
  },
  {
   "cell_type": "markdown",
   "metadata": {},
   "source": [
    "####  Northern Hemisphere - Wind Speed (mph) vs. Latitude Linear Regression"
   ]
  },
  {
   "cell_type": "code",
   "execution_count": 40,
   "metadata": {},
   "outputs": [
    {
     "data": {
      "image/png": "[encoded data removed]",
      "text/plain": [
       "<Figure size 432x288 with 1 Axes>"
      ]
     },
     "metadata": {
      "needs_background": "light"
     },
     "output_type": "display_data"
    }
   ],
   "source": [
    "x_values = noth_hamisphere['Lat']\n",
    "y_values = noth_hamisphere['Wind Speed']\n",
    "(slope, intercept, rvalue, pvalue, stderr) = linregress(x_values, y_values)\n",
    "regress_values = x_values * slope + intercept\n",
    "line_eq = \"y = \" + str(round(slope,2)) + \"x + \" + str(round(intercept,2))\n",
    "plt.scatter(x_values,y_values)\n",
    "plt.plot(x_values,regress_values,\"r-\")\n",
    "plt.annotate(line_eq,(5.8,0.8),fontsize=15,color=\"red\")\n",
    "plt.xlabel('Cities')\n",
    "plt.ylabel('Wind Speed (mph)')\n",
    "plt.title(\"Wind Speed (mph) vs. Latitude\")\n",
    "plt.show()"
   ]
  },
  {
   "cell_type": "code",
   "execution_count": 58,
   "metadata": {},
   "outputs": [
    {
     "data": {
      "text/plain": [
       "<Figure size 432x288 with 0 Axes>"
      ]
     },
     "metadata": {},
     "output_type": "display_data"
    }
   ],
   "source": [
    "plt.savefig(\"Image/NorthernHemisphereWind SpeedLatLinearRegression.png\")"
   ]
  },
  {
   "cell_type": "markdown",
   "metadata": {},
   "source": [
    "In Northern Hemisohere, as red line shows, higher Latitute cities have lower average wind speed"
   ]
  },
  {
   "cell_type": "markdown",
   "metadata": {},
   "source": [
    "####  Southern Hemisphere - Wind Speed (mph) vs. Latitude Linear Regression"
   ]
  },
  {
   "cell_type": "code",
   "execution_count": 41,
   "metadata": {},
   "outputs": [
    {
     "data": {
      "image/png": "[encoded data removed]",
      "text/plain": [
       "<Figure size 432x288 with 1 Axes>"
      ]
     },
     "metadata": {
      "needs_background": "light"
     },
     "output_type": "display_data"
    }
   ],
   "source": [
    "x_values = south_hamisphere['Lat']\n",
    "y_values = south_hamisphere['Wind Speed']\n",
    "(slope, intercept, rvalue, pvalue, stderr) = linregress(x_values, y_values)\n",
    "regress_values = x_values * slope + intercept\n",
    "line_eq = \"y = \" + str(round(slope,2)) + \"x + \" + str(round(intercept,2))\n",
    "plt.scatter(x_values,y_values)\n",
    "plt.plot(x_values,regress_values,\"r-\")\n",
    "plt.annotate(line_eq,(5.8,0.8),fontsize=15,color=\"red\")\n",
    "plt.xlabel('Cities')\n",
    "plt.ylabel('Wind Speed (mph)')\n",
    "plt.show()"
   ]
  },
  {
   "cell_type": "code",
   "execution_count": 59,
   "metadata": {},
   "outputs": [
    {
     "data": {
      "text/plain": [
       "<Figure size 432x288 with 0 Axes>"
      ]
     },
     "metadata": {},
     "output_type": "display_data"
    }
   ],
   "source": [
    "plt.savefig(\"Image/SouthernHemisphereWind SpeedLatLinearRegression.png\")"
   ]
  },
  {
   "cell_type": "markdown",
   "metadata": {},
   "source": [
    "In Souther Hemisphere, as red line shows, cities closer to Latitute 0 have lower average wind speed"
   ]
  },
  {
   "cell_type": "code",
   "execution_count": null,
   "metadata": {},
   "outputs": [],
   "source": []
  },
  {
   "cell_type": "markdown",
   "metadata": {},
   "source": [
    "In Northern Hemisphere, higher Latitute cities have lower max temperature and lower wind speed.\n",
    "Latitute ranges(0 to 80)' avarage humidity is mid 50s through out and humidity ranges are 60 to 100.\n",
    "In Southern Hemisphere, cities closer to Latitute 0 have the lower humidity, lower average wind speed.\n",
    "however, cities further from  Latitute 0 have lower max temperature."
   ]
  }
 ],
 "metadata": {
  "anaconda-cloud": {},
  "kernel_info": {
   "name": "python3"
  },
  "kernelspec": {
   "display_name": "Python 3 (ipykernel)",
   "language": "python",
   "name": "python3"
  },
  "language_info": {
   "codemirror_mode": {
    "name": "ipython",
    "version": 3
   },
   "file_extension": ".py",
   "mimetype": "text/x-python",
   "name": "python",
   "nbconvert_exporter": "python",
   "pygments_lexer": "ipython3",
   "version": "3.8.13"
  },
  "latex_envs": {
   "LaTeX_envs_menu_present": true,
   "autoclose": false,
   "autocomplete": true,
   "bibliofile": "biblio.bib",
   "cite_by": "apalike",
   "current_citInitial": 1,
   "eqLabelWithNumbers": true,
   "eqNumInitial": 1,
   "hotkeys": {
    "equation": "Ctrl-E",
    "itemize": "Ctrl-I"
   },
   "labels_anchors": false,
   "latex_user_defs": false,
   "report_style_numbering": false,
   "user_envs_cfg": false
  },
  "nteract": {
   "version": "0.12.3"
  }
 },
 "nbformat": 4,
 "nbformat_minor": 2
}
